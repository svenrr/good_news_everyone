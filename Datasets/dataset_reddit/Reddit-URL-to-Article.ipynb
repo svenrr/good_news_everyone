{
 "cells": [
  {
   "cell_type": "markdown",
   "metadata": {},
   "source": [
    "# Intro"
   ]
  },
  {
   "cell_type": "markdown",
   "metadata": {},
   "source": [
    "In this notebook we try to get the top posts from the Reddits about news. In addition, we also directly store the links to the respective news articles. At the end we try to get all news articles of the different publishers via the urls."
   ]
  },
  {
   "cell_type": "markdown",
   "metadata": {},
   "source": [
    "# Imports"
   ]
  },
  {
   "cell_type": "code",
   "execution_count": 102,
   "metadata": {},
   "outputs": [],
   "source": [
    "import praw\n",
    "from psaw import PushshiftAPI\n",
    "import pandas as pd \n",
    "import numpy as np \n",
    "#pd.set_option('display.max_colwidth', -1)"
   ]
  },
  {
   "cell_type": "code",
   "execution_count": 3,
   "metadata": {},
   "outputs": [
    {
     "name": "stdout",
     "output_type": "stream",
     "text": [
      "Collecting psaw\n",
      "  Downloading psaw-0.0.12-py3-none-any.whl (15 kB)\n",
      "Requirement already satisfied: Click in c:\\users\\svenr\\anaconda3\\lib\\site-packages (from psaw) (7.1.2)\n",
      "Requirement already satisfied: requests in c:\\users\\svenr\\anaconda3\\lib\\site-packages (from psaw) (2.24.0)\n",
      "Requirement already satisfied: idna<3,>=2.5 in c:\\users\\svenr\\anaconda3\\lib\\site-packages (from requests->psaw) (2.10)\n",
      "Requirement already satisfied: chardet<4,>=3.0.2 in c:\\users\\svenr\\anaconda3\\lib\\site-packages (from requests->psaw) (3.0.4)\n",
      "Requirement already satisfied: certifi>=2017.4.17 in c:\\users\\svenr\\anaconda3\\lib\\site-packages (from requests->psaw) (2020.6.20)\n",
      "Requirement already satisfied: urllib3!=1.25.0,!=1.25.1,<1.26,>=1.21.1 in c:\\users\\svenr\\anaconda3\\lib\\site-packages (from requests->psaw) (1.25.9)\n",
      "Installing collected packages: psaw\n",
      "Successfully installed psaw-0.0.12\n"
     ]
    }
   ],
   "source": [
    "# Install of the PushshiftAPI\n",
    "#!pip install psaw"
   ]
  },
  {
   "cell_type": "code",
   "execution_count": 2,
   "metadata": {},
   "outputs": [],
   "source": [
    "# Login credentials for praw & Reddit API\n",
    "r = praw.Reddit(client_id='ddxZYbBilApY5A', client_secret='4rxjgOizdOJlhuyD781bi4tCqH8', user_agent='Henlo')\n",
    "api = PushshiftAPI(r)"
   ]
  },
  {
   "cell_type": "markdown",
   "metadata": {},
   "source": [
    "---"
   ]
  },
  {
   "cell_type": "markdown",
   "metadata": {},
   "source": [
    "# Functions "
   ]
  },
  {
   "cell_type": "markdown",
   "metadata": {},
   "source": [
    "With the following function we will get the top 1000 posts from a specific reddit."
   ]
  },
  {
   "cell_type": "code",
   "execution_count": 47,
   "metadata": {},
   "outputs": [],
   "source": [
    "def get_reddit_details(reddit_name): \n",
    "    top_posts = r.subreddit(reddit_name).top(limit=1000)\n",
    "    lst = []\n",
    "    title = []\n",
    "    for post in top_posts:\n",
    "        lst.append(post.url)\n",
    "        title.append(post.title)\n",
    "    df = pd.DataFrame({'title' : title, 'url' : lst})\n",
    "    return df"
   ]
  },
  {
   "cell_type": "markdown",
   "metadata": {},
   "source": [
    " "
   ]
  },
  {
   "cell_type": "markdown",
   "metadata": {},
   "source": [
    "We use newspaper3k to fetch all articles from our dataframe with all urls."
   ]
  },
  {
   "cell_type": "code",
   "execution_count": 49,
   "metadata": {},
   "outputs": [],
   "source": [
    "from newspaper import Article\n",
    "import urllib.request, urllib.error\n",
    "\n",
    "# download and parse articles\n",
    "def get_articles(start,end,prefix): \n",
    "    good = 0\n",
    "    bad = 0\n",
    "\n",
    "    articles_txt_list = []\n",
    "\n",
    "    for link in link_list[start:end]:\n",
    "            print(\"{}\".format(df.shape[0]-good+bad),end=\"\\r\") \n",
    "            if link == \"None\": \n",
    "                articles_txt_list.append(\"None\")\n",
    "                bad += 1 \n",
    "\n",
    "            else: \n",
    "                try:\n",
    "                    #conn = urllib.request.urlopen(link)\n",
    "                    n_article = Article(url=link, fetch_images=False, request_timeout=10, number_threads=15)\n",
    "                    n_article.download()\n",
    "                    n_article.parse()\n",
    "                    articles_txt_list.append(n_article.text)\n",
    "                    good += 1\n",
    "                except: \n",
    "                    bad +=1\n",
    "                    articles_txt_list.append(\"None\")\n",
    "\n",
    "    articles_txt_df = pd.DataFrame({\"article_txt\": articles_txt_list}) \n",
    "    articles_txt_df_con = pd.concat([df[start:end].reset_index(drop=True), articles_txt_df], axis=1)\n",
    "    articles_txt_df_con.to_csv(\"reddit_news_data/{}_dataset_{}_{}.csv\".format(prefix,start,end), index=False)\n",
    "\n",
    "\n",
    "    print(\"# Articles:\", len(articles_txt_list))\n",
    "    print(\"# bad:\", bad)\n",
    "    print(\"# good:\", good)"
   ]
  },
  {
   "cell_type": "markdown",
   "metadata": {},
   "source": [
    "---"
   ]
  },
  {
   "cell_type": "markdown",
   "metadata": {},
   "source": [
    "#### r/UplifitingNews"
   ]
  },
  {
   "cell_type": "markdown",
   "metadata": {},
   "source": [
    "In this Reddit only good news are shared."
   ]
  },
  {
   "cell_type": "code",
   "execution_count": null,
   "metadata": {},
   "outputs": [],
   "source": [
    "df = get_reddit_details('UpliftingNews')"
   ]
  },
  {
   "cell_type": "code",
   "execution_count": null,
   "metadata": {},
   "outputs": [],
   "source": [
    "link_list = df.url.tolist()\n",
    "len(link_list)"
   ]
  },
  {
   "cell_type": "code",
   "execution_count": 26,
   "metadata": {},
   "outputs": [
    {
     "name": "stdout",
     "output_type": "stream",
     "text": [
      "# Articles: 990\n",
      "# bad: 135\n",
      "# good: 855\n"
     ]
    }
   ],
   "source": [
    "get_articles(0,df.shape[0], \"uplifiting_news\")"
   ]
  },
  {
   "cell_type": "code",
   "execution_count": 41,
   "metadata": {},
   "outputs": [
    {
     "data": {
      "text/html": [
       "<div>\n",
       "<style scoped>\n",
       "    .dataframe tbody tr th:only-of-type {\n",
       "        vertical-align: middle;\n",
       "    }\n",
       "\n",
       "    .dataframe tbody tr th {\n",
       "        vertical-align: top;\n",
       "    }\n",
       "\n",
       "    .dataframe thead th {\n",
       "        text-align: right;\n",
       "    }\n",
       "</style>\n",
       "<table border=\"1\" class=\"dataframe\">\n",
       "  <thead>\n",
       "    <tr style=\"text-align: right;\">\n",
       "      <th></th>\n",
       "      <th>title</th>\n",
       "      <th>url</th>\n",
       "      <th>0</th>\n",
       "    </tr>\n",
       "  </thead>\n",
       "  <tbody>\n",
       "    <tr>\n",
       "      <th>0</th>\n",
       "      <td>Man falsely imprisoned for 10 years, uses pris...</td>\n",
       "      <td>https://www.nbcnews.com/news/us-news/defendant...</td>\n",
       "      <td>Attorney Jarrett Adams recently helped overtur...</td>\n",
       "    </tr>\n",
       "    <tr>\n",
       "      <th>1</th>\n",
       "      <td>First paralyzed human treated with stem cells ...</td>\n",
       "      <td>https://educateinspirechange.org/science-techn...</td>\n",
       "      <td>Imagine losing control of your car and waking ...</td>\n",
       "    </tr>\n",
       "    <tr>\n",
       "      <th>2</th>\n",
       "      <td>Over a Million People Sign Petition Calling Fo...</td>\n",
       "      <td>https://www.newsweek.com/kkk-petition-terroris...</td>\n",
       "      <td>None</td>\n",
       "    </tr>\n",
       "    <tr>\n",
       "      <th>3</th>\n",
       "      <td>Hollywood Superstar Keanu Reeves Has Secretly ...</td>\n",
       "      <td>https://www.theepochtimes.com/hollywood-supers...</td>\n",
       "      <td>None</td>\n",
       "    </tr>\n",
       "    <tr>\n",
       "      <th>4</th>\n",
       "      <td>Amazon tribe wins legal battle against oil com...</td>\n",
       "      <td>https://www.disclose.tv/amazon-tribe-wins-laws...</td>\n",
       "      <td>The Amazon Rainforest is well known across the...</td>\n",
       "    </tr>\n",
       "  </tbody>\n",
       "</table>\n",
       "</div>"
      ],
      "text/plain": [
       "                                               title  \\\n",
       "0  Man falsely imprisoned for 10 years, uses pris...   \n",
       "1  First paralyzed human treated with stem cells ...   \n",
       "2  Over a Million People Sign Petition Calling Fo...   \n",
       "3  Hollywood Superstar Keanu Reeves Has Secretly ...   \n",
       "4  Amazon tribe wins legal battle against oil com...   \n",
       "\n",
       "                                                 url  \\\n",
       "0  https://www.nbcnews.com/news/us-news/defendant...   \n",
       "1  https://educateinspirechange.org/science-techn...   \n",
       "2  https://www.newsweek.com/kkk-petition-terroris...   \n",
       "3  https://www.theepochtimes.com/hollywood-supers...   \n",
       "4  https://www.disclose.tv/amazon-tribe-wins-laws...   \n",
       "\n",
       "                                                   0  \n",
       "0  Attorney Jarrett Adams recently helped overtur...  \n",
       "1  Imagine losing control of your car and waking ...  \n",
       "2                                               None  \n",
       "3                                               None  \n",
       "4  The Amazon Rainforest is well known across the...  "
      ]
     },
     "execution_count": 41,
     "metadata": {},
     "output_type": "execute_result"
    }
   ],
   "source": [
    "uplifting_news = pd.read_csv(\"reddit_news_data/uplifitng_news_dataset_0_990.csv\")\n",
    "uplifting_news.head()"
   ]
  },
  {
   "cell_type": "code",
   "execution_count": 42,
   "metadata": {},
   "outputs": [],
   "source": [
    "uplifting_news.rename(columns={\"0\": \"article_txt\"}, inplace=True)"
   ]
  },
  {
   "cell_type": "code",
   "execution_count": 43,
   "metadata": {},
   "outputs": [
    {
     "data": {
      "text/plain": [
       "(834, 3)"
      ]
     },
     "execution_count": 43,
     "metadata": {},
     "output_type": "execute_result"
    }
   ],
   "source": [
    "# Drop None & NaN -> appears if the scraping was not successful\n",
    "uplifting_news.dropna(inplace=True)\n",
    "uplifting_news = uplifting_news[uplifting_news[\"article_txt\"] != \"None\"]\n",
    "uplifting_news.shape"
   ]
  },
  {
   "cell_type": "code",
   "execution_count": 45,
   "metadata": {},
   "outputs": [
    {
     "data": {
      "text/html": [
       "<div>\n",
       "<style scoped>\n",
       "    .dataframe tbody tr th:only-of-type {\n",
       "        vertical-align: middle;\n",
       "    }\n",
       "\n",
       "    .dataframe tbody tr th {\n",
       "        vertical-align: top;\n",
       "    }\n",
       "\n",
       "    .dataframe thead th {\n",
       "        text-align: right;\n",
       "    }\n",
       "</style>\n",
       "<table border=\"1\" class=\"dataframe\">\n",
       "  <thead>\n",
       "    <tr style=\"text-align: right;\">\n",
       "      <th></th>\n",
       "      <th>title</th>\n",
       "      <th>url</th>\n",
       "      <th>article_txt</th>\n",
       "    </tr>\n",
       "  </thead>\n",
       "  <tbody>\n",
       "    <tr>\n",
       "      <th>0</th>\n",
       "      <td>Man falsely imprisoned for 10 years, uses pris...</td>\n",
       "      <td>https://www.nbcnews.com/news/us-news/defendant...</td>\n",
       "      <td>Attorney Jarrett Adams recently helped overtur...</td>\n",
       "    </tr>\n",
       "    <tr>\n",
       "      <th>1</th>\n",
       "      <td>First paralyzed human treated with stem cells ...</td>\n",
       "      <td>https://educateinspirechange.org/science-techn...</td>\n",
       "      <td>Imagine losing control of your car and waking ...</td>\n",
       "    </tr>\n",
       "    <tr>\n",
       "      <th>4</th>\n",
       "      <td>Amazon tribe wins legal battle against oil com...</td>\n",
       "      <td>https://www.disclose.tv/amazon-tribe-wins-laws...</td>\n",
       "      <td>The Amazon Rainforest is well known across the...</td>\n",
       "    </tr>\n",
       "    <tr>\n",
       "      <th>6</th>\n",
       "      <td>No children died in traffic accidents in Norwa...</td>\n",
       "      <td>https://www.nrk.no/trondelag/ingen-barn-dode-i...</td>\n",
       "      <td>I 1970 døde det 560 mennesker i den norske tra...</td>\n",
       "    </tr>\n",
       "    <tr>\n",
       "      <th>7</th>\n",
       "      <td>President Trump signs animal cruelty bill into...</td>\n",
       "      <td>https://abcnews.go.com/amp/Politics/president-...</td>\n",
       "      <td>President Trump signs animal cruelty bill into...</td>\n",
       "    </tr>\n",
       "    <tr>\n",
       "      <th>8</th>\n",
       "      <td>Man finds $24 million lottery ticket in an old...</td>\n",
       "      <td>http://www.cnn.com/2017/10/13/us/lottery-winne...</td>\n",
       "      <td>(CNN) Everyone has that spot in their house or...</td>\n",
       "    </tr>\n",
       "    <tr>\n",
       "      <th>9</th>\n",
       "      <td>Police say a teenager who attached uplifting m...</td>\n",
       "      <td>https://www.bbc.com/news/uk-england-tyne-44916409</td>\n",
       "      <td>\"It's just amazing, the response it has had. I...</td>\n",
       "    </tr>\n",
       "    <tr>\n",
       "      <th>10</th>\n",
       "      <td>A Chinese woman whose boy was kidnapped in 198...</td>\n",
       "      <td>https://www.scmp.com/news/china/society/articl...</td>\n",
       "      <td>Mao Yin pictured as a child with his mother Li...</td>\n",
       "    </tr>\n",
       "    <tr>\n",
       "      <th>11</th>\n",
       "      <td>13 Year Old Girl nicknamed 'Trash Girl' was re...</td>\n",
       "      <td>https://www.edp24.co.uk/news/environment/norwi...</td>\n",
       "      <td>Video\\n\\nTrash Girl spends the day at the EDP ...</td>\n",
       "    </tr>\n",
       "    <tr>\n",
       "      <th>12</th>\n",
       "      <td>JetBlue caps direct flight ticket prices out o...</td>\n",
       "      <td>https://finance.yahoo.com/news/jetblue-caps-ti...</td>\n",
       "      <td>REUTERS/Mike Blake\\n\\nJetBlue (JBLU) is cappin...</td>\n",
       "    </tr>\n",
       "    <tr>\n",
       "      <th>13</th>\n",
       "      <td>A hacker is breaking into people's routers and...</td>\n",
       "      <td>https://www.zdnet.com/article/a-mysterious-gre...</td>\n",
       "      <td>Botnet beast: How to slay the DDoS dragon Watc...</td>\n",
       "    </tr>\n",
       "    <tr>\n",
       "      <th>14</th>\n",
       "      <td>When twins Kamari and Kamera opened a lemonade...</td>\n",
       "      <td>https://www.cbsnews.com/video/7-year-old-twins...</td>\n",
       "      <td>7-year-old twins reopen successful lemonade st...</td>\n",
       "    </tr>\n",
       "    <tr>\n",
       "      <th>15</th>\n",
       "      <td>High School Student Nicknamed ‘Trash Girl’ by ...</td>\n",
       "      <td>http://www.onegreenplanet.org/environment/tras...</td>\n",
       "      <td>Many people may not want to think about our pl...</td>\n",
       "    </tr>\n",
       "    <tr>\n",
       "      <th>16</th>\n",
       "      <td>Colorado governor to mass-pardon 2,700-plus ma...</td>\n",
       "      <td>https://www.denverpost.com/2020/10/01/colorado...</td>\n",
       "      <td>Colorado Gov. Jared Polis plans to mass-pardon...</td>\n",
       "    </tr>\n",
       "    <tr>\n",
       "      <th>17</th>\n",
       "      <td>Finland to offer new fathers as much paid leav...</td>\n",
       "      <td>https://in.reuters.com/article/finland-politic...</td>\n",
       "      <td>HELSINKI (Reuters) - Finland’s woman-led centr...</td>\n",
       "    </tr>\n",
       "    <tr>\n",
       "      <th>18</th>\n",
       "      <td>Aldi introduces wages higher than the ‘real li...</td>\n",
       "      <td>https://inews.co.uk/news/consumer/aldi-wages-h...</td>\n",
       "      <td>Aldi introduces wages higher than the ‘real li...</td>\n",
       "    </tr>\n",
       "    <tr>\n",
       "      <th>19</th>\n",
       "      <td>Farmer spends 16 years studying law by himself...</td>\n",
       "      <td>http://www.dailymail.co.uk/news/peoplesdaily/a...</td>\n",
       "      <td>Wang Enlin, who has just three years of educat...</td>\n",
       "    </tr>\n",
       "    <tr>\n",
       "      <th>20</th>\n",
       "      <td>Ghanaian teacher who Taught his Students How t...</td>\n",
       "      <td>https://amp.cnn.com/cnn/2018/03/15/africa/ghan...</td>\n",
       "      <td>(CNN) With just a blackboard and a talent for ...</td>\n",
       "    </tr>\n",
       "    <tr>\n",
       "      <th>21</th>\n",
       "      <td>Pentagon issues de facto ban on Confederate fl...</td>\n",
       "      <td>https://www.reuters.com/article/us-global-race...</td>\n",
       "      <td>WASHINGTON (Reuters) - Defense Secretary Mark ...</td>\n",
       "    </tr>\n",
       "    <tr>\n",
       "      <th>22</th>\n",
       "      <td>Mom with 'gut feeling' stops school shooter be...</td>\n",
       "      <td>https://www.yahoo.com/lifestyle/mom-gut-feelin...</td>\n",
       "      <td>A suspicious mom who followed her instincts he...</td>\n",
       "    </tr>\n",
       "  </tbody>\n",
       "</table>\n",
       "</div>"
      ],
      "text/plain": [
       "                                                title  \\\n",
       "0   Man falsely imprisoned for 10 years, uses pris...   \n",
       "1   First paralyzed human treated with stem cells ...   \n",
       "4   Amazon tribe wins legal battle against oil com...   \n",
       "6   No children died in traffic accidents in Norwa...   \n",
       "7   President Trump signs animal cruelty bill into...   \n",
       "8   Man finds $24 million lottery ticket in an old...   \n",
       "9   Police say a teenager who attached uplifting m...   \n",
       "10  A Chinese woman whose boy was kidnapped in 198...   \n",
       "11  13 Year Old Girl nicknamed 'Trash Girl' was re...   \n",
       "12  JetBlue caps direct flight ticket prices out o...   \n",
       "13  A hacker is breaking into people's routers and...   \n",
       "14  When twins Kamari and Kamera opened a lemonade...   \n",
       "15  High School Student Nicknamed ‘Trash Girl’ by ...   \n",
       "16  Colorado governor to mass-pardon 2,700-plus ma...   \n",
       "17  Finland to offer new fathers as much paid leav...   \n",
       "18  Aldi introduces wages higher than the ‘real li...   \n",
       "19  Farmer spends 16 years studying law by himself...   \n",
       "20  Ghanaian teacher who Taught his Students How t...   \n",
       "21  Pentagon issues de facto ban on Confederate fl...   \n",
       "22  Mom with 'gut feeling' stops school shooter be...   \n",
       "\n",
       "                                                  url  \\\n",
       "0   https://www.nbcnews.com/news/us-news/defendant...   \n",
       "1   https://educateinspirechange.org/science-techn...   \n",
       "4   https://www.disclose.tv/amazon-tribe-wins-laws...   \n",
       "6   https://www.nrk.no/trondelag/ingen-barn-dode-i...   \n",
       "7   https://abcnews.go.com/amp/Politics/president-...   \n",
       "8   http://www.cnn.com/2017/10/13/us/lottery-winne...   \n",
       "9   https://www.bbc.com/news/uk-england-tyne-44916409   \n",
       "10  https://www.scmp.com/news/china/society/articl...   \n",
       "11  https://www.edp24.co.uk/news/environment/norwi...   \n",
       "12  https://finance.yahoo.com/news/jetblue-caps-ti...   \n",
       "13  https://www.zdnet.com/article/a-mysterious-gre...   \n",
       "14  https://www.cbsnews.com/video/7-year-old-twins...   \n",
       "15  http://www.onegreenplanet.org/environment/tras...   \n",
       "16  https://www.denverpost.com/2020/10/01/colorado...   \n",
       "17  https://in.reuters.com/article/finland-politic...   \n",
       "18  https://inews.co.uk/news/consumer/aldi-wages-h...   \n",
       "19  http://www.dailymail.co.uk/news/peoplesdaily/a...   \n",
       "20  https://amp.cnn.com/cnn/2018/03/15/africa/ghan...   \n",
       "21  https://www.reuters.com/article/us-global-race...   \n",
       "22  https://www.yahoo.com/lifestyle/mom-gut-feelin...   \n",
       "\n",
       "                                          article_txt  \n",
       "0   Attorney Jarrett Adams recently helped overtur...  \n",
       "1   Imagine losing control of your car and waking ...  \n",
       "4   The Amazon Rainforest is well known across the...  \n",
       "6   I 1970 døde det 560 mennesker i den norske tra...  \n",
       "7   President Trump signs animal cruelty bill into...  \n",
       "8   (CNN) Everyone has that spot in their house or...  \n",
       "9   \"It's just amazing, the response it has had. I...  \n",
       "10  Mao Yin pictured as a child with his mother Li...  \n",
       "11  Video\\n\\nTrash Girl spends the day at the EDP ...  \n",
       "12  REUTERS/Mike Blake\\n\\nJetBlue (JBLU) is cappin...  \n",
       "13  Botnet beast: How to slay the DDoS dragon Watc...  \n",
       "14  7-year-old twins reopen successful lemonade st...  \n",
       "15  Many people may not want to think about our pl...  \n",
       "16  Colorado Gov. Jared Polis plans to mass-pardon...  \n",
       "17  HELSINKI (Reuters) - Finland’s woman-led centr...  \n",
       "18  Aldi introduces wages higher than the ‘real li...  \n",
       "19  Wang Enlin, who has just three years of educat...  \n",
       "20  (CNN) With just a blackboard and a talent for ...  \n",
       "21  WASHINGTON (Reuters) - Defense Secretary Mark ...  \n",
       "22  A suspicious mom who followed her instincts he...  "
      ]
     },
     "execution_count": 45,
     "metadata": {},
     "output_type": "execute_result"
    }
   ],
   "source": [
    "uplifting_news.head(20)"
   ]
  },
  {
   "cell_type": "markdown",
   "metadata": {},
   "source": [
    "Looks good."
   ]
  },
  {
   "cell_type": "code",
   "execution_count": 46,
   "metadata": {},
   "outputs": [],
   "source": [
    "# Safe the new/cleaned dataframe as csv \n",
    "uplifting_news.to_csv(\"reddit_news_data/cleaned/reddit_upliftingnews.csv\", index=False)"
   ]
  },
  {
   "cell_type": "markdown",
   "metadata": {},
   "source": [
    " ---"
   ]
  },
  {
   "cell_type": "markdown",
   "metadata": {},
   "source": [
    "#### r/Collapse"
   ]
  },
  {
   "cell_type": "code",
   "execution_count": 6,
   "metadata": {},
   "outputs": [],
   "source": [
    "df = get_reddit_details('collapse')"
   ]
  },
  {
   "cell_type": "code",
   "execution_count": 7,
   "metadata": {},
   "outputs": [
    {
     "data": {
      "text/plain": [
       "998"
      ]
     },
     "execution_count": 7,
     "metadata": {},
     "output_type": "execute_result"
    }
   ],
   "source": [
    "link_list = df.url.tolist()\n",
    "len(link_list)"
   ]
  },
  {
   "cell_type": "code",
   "execution_count": 21,
   "metadata": {},
   "outputs": [
    {
     "name": "stdout",
     "output_type": "stream",
     "text": [
      "# Articles: 998\n",
      "# bad: 26\n",
      "# good: 972\n"
     ]
    }
   ],
   "source": [
    "get_articles(0,df.shape[0],\"collapse\")"
   ]
  },
  {
   "cell_type": "code",
   "execution_count": 8,
   "metadata": {},
   "outputs": [
    {
     "data": {
      "text/plain": [
       "0     https://www.reddit.com/r/collapse/comments/gv7...\n",
       "1     https://www.reddit.com/r/collapse/comments/h8f...\n",
       "2                   https://i.redd.it/nxc4kdfc1d251.jpg\n",
       "3                   https://i.redd.it/98fyhfza47841.jpg\n",
       "4                   https://i.redd.it/24nnkbjs69p41.png\n",
       "5                   https://i.redd.it/ahigharrhhm51.jpg\n",
       "6     https://preview.redd.it/pmdknot1c8t41.jpg?widt...\n",
       "7                   https://i.redd.it/5yppxpdkemd51.jpg\n",
       "8                   https://i.redd.it/oddkv702f6d51.jpg\n",
       "9                   https://i.redd.it/o02xf18i2h151.jpg\n",
       "10                  https://i.redd.it/psigl5fv7q351.jpg\n",
       "11                  https://i.redd.it/am5djw8rk7v51.jpg\n",
       "12                  https://i.redd.it/jwvg2u2sr6f51.png\n",
       "13                  https://i.redd.it/s3dipqaut2s51.jpg\n",
       "14                      https://i.imgur.com/8jPnfr2.jpg\n",
       "15                  https://i.redd.it/492db98qzlm51.jpg\n",
       "16    https://finance.yahoo.com/news/world-2-000-bil...\n",
       "17    https://preview.redd.it/qzt1mydo9lg51.jpg?widt...\n",
       "18    https://www.weforest.org/sites/default/files/s...\n",
       "19                      https://i.imgur.com/0cHspjp.jpg\n",
       "20                  https://i.redd.it/1ie48czmn4l51.jpg\n",
       "21                  https://i.redd.it/nui9fx619nn41.jpg\n",
       "22                  https://i.redd.it/tj5x85k9ydb51.jpg\n",
       "23                  https://i.redd.it/2wtt3w8pmvy31.png\n",
       "24                  https://i.redd.it/r5eaih52xrj51.png\n",
       "25                  https://i.redd.it/xhty3c0un4e41.jpg\n",
       "26                  https://i.redd.it/j6gn1722ts541.jpg\n",
       "27                      https://v.redd.it/rixf4tkh3p231\n",
       "28                        https://streamable.com/u2jzoo\n",
       "29    https://morningconsult.com/2020/09/28/adults-c...\n",
       "Name: url, dtype: object"
      ]
     },
     "execution_count": 8,
     "metadata": {},
     "output_type": "execute_result"
    }
   ],
   "source": [
    "df.url[0:30]"
   ]
  },
  {
   "cell_type": "markdown",
   "metadata": {},
   "source": [
    "We can see that there are many urls which are note useful. \n",
    "We delete them manually."
   ]
  },
  {
   "cell_type": "code",
   "execution_count": 22,
   "metadata": {},
   "outputs": [
    {
     "data": {
      "text/html": [
       "<div>\n",
       "<style scoped>\n",
       "    .dataframe tbody tr th:only-of-type {\n",
       "        vertical-align: middle;\n",
       "    }\n",
       "\n",
       "    .dataframe tbody tr th {\n",
       "        vertical-align: top;\n",
       "    }\n",
       "\n",
       "    .dataframe thead th {\n",
       "        text-align: right;\n",
       "    }\n",
       "</style>\n",
       "<table border=\"1\" class=\"dataframe\">\n",
       "  <thead>\n",
       "    <tr style=\"text-align: right;\">\n",
       "      <th></th>\n",
       "      <th>title</th>\n",
       "      <th>url</th>\n",
       "      <th>article_txt</th>\n",
       "    </tr>\n",
       "  </thead>\n",
       "  <tbody>\n",
       "    <tr>\n",
       "      <th>0</th>\n",
       "      <td>The US is a Shithole Country</td>\n",
       "      <td>https://www.reddit.com/r/collapse/comments/gv7...</td>\n",
       "      <td>I’m so mad right now. I have so much loathing ...</td>\n",
       "    </tr>\n",
       "    <tr>\n",
       "      <th>1</th>\n",
       "      <td>This is a class war</td>\n",
       "      <td>https://www.reddit.com/r/collapse/comments/h8f...</td>\n",
       "      <td>Reposted again. Remember children, hug and kis...</td>\n",
       "    </tr>\n",
       "    <tr>\n",
       "      <th>2</th>\n",
       "      <td>US Senator Tom Cotton calls for the military t...</td>\n",
       "      <td>https://i.redd.it/nxc4kdfc1d251.jpg</td>\n",
       "      <td>NaN</td>\n",
       "    </tr>\n",
       "    <tr>\n",
       "      <th>3</th>\n",
       "      <td>Interesting Times</td>\n",
       "      <td>https://i.redd.it/98fyhfza47841.jpg</td>\n",
       "      <td>NaN</td>\n",
       "    </tr>\n",
       "    <tr>\n",
       "      <th>4</th>\n",
       "      <td>Put into perspective</td>\n",
       "      <td>https://i.redd.it/24nnkbjs69p41.png</td>\n",
       "      <td>NaN</td>\n",
       "    </tr>\n",
       "  </tbody>\n",
       "</table>\n",
       "</div>"
      ],
      "text/plain": [
       "                                               title  \\\n",
       "0                       The US is a Shithole Country   \n",
       "1                                This is a class war   \n",
       "2  US Senator Tom Cotton calls for the military t...   \n",
       "3                                  Interesting Times   \n",
       "4                               Put into perspective   \n",
       "\n",
       "                                                 url  \\\n",
       "0  https://www.reddit.com/r/collapse/comments/gv7...   \n",
       "1  https://www.reddit.com/r/collapse/comments/h8f...   \n",
       "2                https://i.redd.it/nxc4kdfc1d251.jpg   \n",
       "3                https://i.redd.it/98fyhfza47841.jpg   \n",
       "4                https://i.redd.it/24nnkbjs69p41.png   \n",
       "\n",
       "                                         article_txt  \n",
       "0  I’m so mad right now. I have so much loathing ...  \n",
       "1  Reposted again. Remember children, hug and kis...  \n",
       "2                                                NaN  \n",
       "3                                                NaN  \n",
       "4                                                NaN  "
      ]
     },
     "execution_count": 22,
     "metadata": {},
     "output_type": "execute_result"
    }
   ],
   "source": [
    "# Load the csv file as dataframe\n",
    "collapse_news = pd.read_csv(\"reddit_news_data/collapse_dataset_0_998.csv\")\n",
    "collapse_news.head()"
   ]
  },
  {
   "cell_type": "code",
   "execution_count": 23,
   "metadata": {},
   "outputs": [
    {
     "data": {
      "text/plain": [
       "(998, 3)"
      ]
     },
     "execution_count": 23,
     "metadata": {},
     "output_type": "execute_result"
    }
   ],
   "source": [
    "collapse_news.shape"
   ]
  },
  {
   "cell_type": "code",
   "execution_count": 24,
   "metadata": {},
   "outputs": [
    {
     "data": {
      "text/plain": [
       "(699, 3)"
      ]
     },
     "execution_count": 24,
     "metadata": {},
     "output_type": "execute_result"
    }
   ],
   "source": [
    "# Drop None & NaN -> appears if the scraping was not successful\n",
    "collapse_news.dropna(inplace=True)\n",
    "collapse_news = collapse_news[collapse_news[\"article_txt\"] != \"None\"]\n",
    "collapse_news.shape"
   ]
  },
  {
   "cell_type": "code",
   "execution_count": 27,
   "metadata": {},
   "outputs": [
    {
     "data": {
      "text/html": [
       "<div>\n",
       "<style scoped>\n",
       "    .dataframe tbody tr th:only-of-type {\n",
       "        vertical-align: middle;\n",
       "    }\n",
       "\n",
       "    .dataframe tbody tr th {\n",
       "        vertical-align: top;\n",
       "    }\n",
       "\n",
       "    .dataframe thead th {\n",
       "        text-align: right;\n",
       "    }\n",
       "</style>\n",
       "<table border=\"1\" class=\"dataframe\">\n",
       "  <thead>\n",
       "    <tr style=\"text-align: right;\">\n",
       "      <th></th>\n",
       "      <th>title</th>\n",
       "      <th>url</th>\n",
       "      <th>article_txt</th>\n",
       "    </tr>\n",
       "  </thead>\n",
       "  <tbody>\n",
       "    <tr>\n",
       "      <th>0</th>\n",
       "      <td>The US is a Shithole Country</td>\n",
       "      <td>https://www.reddit.com/r/collapse/comments/gv7...</td>\n",
       "      <td>I’m so mad right now. I have so much loathing ...</td>\n",
       "    </tr>\n",
       "    <tr>\n",
       "      <th>1</th>\n",
       "      <td>This is a class war</td>\n",
       "      <td>https://www.reddit.com/r/collapse/comments/h8f...</td>\n",
       "      <td>Reposted again. Remember children, hug and kis...</td>\n",
       "    </tr>\n",
       "    <tr>\n",
       "      <th>16</th>\n",
       "      <td>The World’s 2,000 Billionaires Have More Wealt...</td>\n",
       "      <td>https://finance.yahoo.com/news/world-2-000-bil...</td>\n",
       "      <td>Wealth inequality is nothing new, but it’s rea...</td>\n",
       "    </tr>\n",
       "    <tr>\n",
       "      <th>27</th>\n",
       "      <td>How humanity solves problems</td>\n",
       "      <td>https://v.redd.it/rixf4tkh3p231</td>\n",
       "      <td>Discussion regarding the potential collapse of...</td>\n",
       "    </tr>\n",
       "    <tr>\n",
       "      <th>29</th>\n",
       "      <td>1 in 4 Childless Adults Say Climate Change Has...</td>\n",
       "      <td>https://morningconsult.com/2020/09/28/adults-c...</td>\n",
       "      <td>11% of childless adults say climate change is ...</td>\n",
       "    </tr>\n",
       "  </tbody>\n",
       "</table>\n",
       "</div>"
      ],
      "text/plain": [
       "                                                title  \\\n",
       "0                        The US is a Shithole Country   \n",
       "1                                 This is a class war   \n",
       "16  The World’s 2,000 Billionaires Have More Wealt...   \n",
       "27                       How humanity solves problems   \n",
       "29  1 in 4 Childless Adults Say Climate Change Has...   \n",
       "\n",
       "                                                  url  \\\n",
       "0   https://www.reddit.com/r/collapse/comments/gv7...   \n",
       "1   https://www.reddit.com/r/collapse/comments/h8f...   \n",
       "16  https://finance.yahoo.com/news/world-2-000-bil...   \n",
       "27                    https://v.redd.it/rixf4tkh3p231   \n",
       "29  https://morningconsult.com/2020/09/28/adults-c...   \n",
       "\n",
       "                                          article_txt  \n",
       "0   I’m so mad right now. I have so much loathing ...  \n",
       "1   Reposted again. Remember children, hug and kis...  \n",
       "16  Wealth inequality is nothing new, but it’s rea...  \n",
       "27  Discussion regarding the potential collapse of...  \n",
       "29  11% of childless adults say climate change is ...  "
      ]
     },
     "execution_count": 27,
     "metadata": {},
     "output_type": "execute_result"
    }
   ],
   "source": [
    "collapse_news.head()"
   ]
  },
  {
   "cell_type": "markdown",
   "metadata": {},
   "source": [
    "As I mentioned before there a lot of stuff still in the dataframe which is not useful, i.e urls from reddit.com"
   ]
  },
  {
   "cell_type": "code",
   "execution_count": 29,
   "metadata": {},
   "outputs": [
    {
     "data": {
      "text/plain": [
       "(466, 3)"
      ]
     },
     "execution_count": 29,
     "metadata": {},
     "output_type": "execute_result"
    }
   ],
   "source": [
    "# Delete the rows\n",
    "collapse_news = collapse_news[[True if 'jpg' not in i else False for i in collapse_news.url.values]]\n",
    "collapse_news = collapse_news[[True if 'youtu' not in i else False for i in collapse_news.url.values]]\n",
    "collapse_news = collapse_news[[True if 'png' not in i else False for i in collapse_news.url.values]]\n",
    "collapse_news = collapse_news[[True if 'amazon' not in i else False for i in collapse_news.url.values]]\n",
    "collapse_news = collapse_news[[True if 'twitter' not in i else False for i in collapse_news.url.values]]\n",
    "collapse_news = collapse_news[[True if '/r/' not in i else False for i in collapse_news.url.values]]\n",
    "collapse_news = collapse_news[[True if 'imgur' not in i else False for i in collapse_news.url.values]]\n",
    "collapse_news = collapse_news[[True if 'wikipedia' not in i else False for i in collapse_news.url.values]]\n",
    "collapse_news = collapse_news[[True if 'streamable' not in i else False for i in collapse_news.url.values]]\n",
    "collapse_news = collapse_news[[True if 'pulse' not in i else False for i in collapse_news.url.values]]\n",
    "collapse_news = collapse_news[[True if 'feralatlas' not in i else False for i in collapse_news.url.values]]\n",
    "collapse_news = collapse_news[[True if 'thesocialdilemma' not in i else False for i in collapse_news.url.values]]\n",
    "collapse_news = collapse_news[[True if 'collapsepod' not in i else False for i in collapse_news.url.values]]\n",
    "collapse_news = collapse_news[[True if 'kisstheground' not in i else False for i in collapse_news.url.values]]\n",
    "collapse_news = collapse_news[[True if 'redd' not in i else False for i in collapse_news.url.values]]\n",
    "collapse_news = collapse_news[[True if 'medium.com' not in i else False for i in collapse_news.url.values]]\n",
    "\n",
    "collapse_news.shape"
   ]
  },
  {
   "cell_type": "code",
   "execution_count": 30,
   "metadata": {},
   "outputs": [
    {
     "data": {
      "text/html": [
       "<div>\n",
       "<style scoped>\n",
       "    .dataframe tbody tr th:only-of-type {\n",
       "        vertical-align: middle;\n",
       "    }\n",
       "\n",
       "    .dataframe tbody tr th {\n",
       "        vertical-align: top;\n",
       "    }\n",
       "\n",
       "    .dataframe thead th {\n",
       "        text-align: right;\n",
       "    }\n",
       "</style>\n",
       "<table border=\"1\" class=\"dataframe\">\n",
       "  <thead>\n",
       "    <tr style=\"text-align: right;\">\n",
       "      <th></th>\n",
       "      <th>title</th>\n",
       "      <th>url</th>\n",
       "      <th>article_txt</th>\n",
       "    </tr>\n",
       "  </thead>\n",
       "  <tbody>\n",
       "    <tr>\n",
       "      <th>16</th>\n",
       "      <td>The World’s 2,000 Billionaires Have More Wealt...</td>\n",
       "      <td>https://finance.yahoo.com/news/world-2-000-bil...</td>\n",
       "      <td>Wealth inequality is nothing new, but it’s rea...</td>\n",
       "    </tr>\n",
       "    <tr>\n",
       "      <th>29</th>\n",
       "      <td>1 in 4 Childless Adults Say Climate Change Has...</td>\n",
       "      <td>https://morningconsult.com/2020/09/28/adults-c...</td>\n",
       "      <td>11% of childless adults say climate change is ...</td>\n",
       "    </tr>\n",
       "    <tr>\n",
       "      <th>38</th>\n",
       "      <td>America Is Too Broken to Fight the Coronavirus...</td>\n",
       "      <td>https://www.nytimes.com/2020/06/22/opinion/us-...</td>\n",
       "      <td>When coronavirus cases started exploding on th...</td>\n",
       "    </tr>\n",
       "    <tr>\n",
       "      <th>42</th>\n",
       "      <td>The Brazilian president has fired the head of ...</td>\n",
       "      <td>https://www.climatechangenews.com/2019/08/05/b...</td>\n",
       "      <td>The Brazilian president forced a top science o...</td>\n",
       "    </tr>\n",
       "    <tr>\n",
       "      <th>57</th>\n",
       "      <td>Coronavirus has led to the largest ever drop i...</td>\n",
       "      <td>https://www.carbonbrief.org/analysis-coronavir...</td>\n",
       "      <td>The global coronavirus pandemic continues to u...</td>\n",
       "    </tr>\n",
       "  </tbody>\n",
       "</table>\n",
       "</div>"
      ],
      "text/plain": [
       "                                                title  \\\n",
       "16  The World’s 2,000 Billionaires Have More Wealt...   \n",
       "29  1 in 4 Childless Adults Say Climate Change Has...   \n",
       "38  America Is Too Broken to Fight the Coronavirus...   \n",
       "42  The Brazilian president has fired the head of ...   \n",
       "57  Coronavirus has led to the largest ever drop i...   \n",
       "\n",
       "                                                  url  \\\n",
       "16  https://finance.yahoo.com/news/world-2-000-bil...   \n",
       "29  https://morningconsult.com/2020/09/28/adults-c...   \n",
       "38  https://www.nytimes.com/2020/06/22/opinion/us-...   \n",
       "42  https://www.climatechangenews.com/2019/08/05/b...   \n",
       "57  https://www.carbonbrief.org/analysis-coronavir...   \n",
       "\n",
       "                                          article_txt  \n",
       "16  Wealth inequality is nothing new, but it’s rea...  \n",
       "29  11% of childless adults say climate change is ...  \n",
       "38  When coronavirus cases started exploding on th...  \n",
       "42  The Brazilian president forced a top science o...  \n",
       "57  The global coronavirus pandemic continues to u...  "
      ]
     },
     "execution_count": 30,
     "metadata": {},
     "output_type": "execute_result"
    }
   ],
   "source": [
    "collapse_news.head()"
   ]
  },
  {
   "cell_type": "code",
   "execution_count": null,
   "metadata": {},
   "outputs": [],
   "source": [
    "# Safe the new/cleaned dataframe as csv \n",
    "collapse_news.to_csv(\"reddit_news_data/cleaned/reddit_collapse.csv\", index=False)"
   ]
  },
  {
   "cell_type": "markdown",
   "metadata": {},
   "source": [
    " ---"
   ]
  },
  {
   "cell_type": "markdown",
   "metadata": {},
   "source": [
    "#### r/JustGoodNews"
   ]
  },
  {
   "cell_type": "code",
   "execution_count": 48,
   "metadata": {},
   "outputs": [],
   "source": [
    "df = get_reddit_details('JustGoodNews')"
   ]
  },
  {
   "cell_type": "code",
   "execution_count": 50,
   "metadata": {},
   "outputs": [
    {
     "data": {
      "text/plain": [
       "1000"
      ]
     },
     "execution_count": 50,
     "metadata": {},
     "output_type": "execute_result"
    }
   ],
   "source": [
    "link_list = df.url.tolist()\n",
    "len(link_list)"
   ]
  },
  {
   "cell_type": "code",
   "execution_count": 51,
   "metadata": {},
   "outputs": [
    {
     "name": "stdout",
     "output_type": "stream",
     "text": [
      "6960\r"
     ]
    },
    {
     "name": "stderr",
     "output_type": "stream",
     "text": [
      "C:\\Users\\svenr\\Anaconda3\\lib\\site-packages\\dateutil\\parser\\_parser.py:1213: UnknownTimezoneWarning: tzname EDT identified but not understood.  Pass `tzinfos` argument in order to correctly return a timezone-aware datetime.  In a future version, this will raise an exception.\n",
      "  warnings.warn(\"tzname {tzname} identified but not understood.  \"\n"
     ]
    },
    {
     "name": "stdout",
     "output_type": "stream",
     "text": [
      "# Articles: 1000\n",
      "# bad: 94\n",
      "# good: 906\n"
     ]
    }
   ],
   "source": [
    "get_articles(0,df.shape[0],\"JustGoodNews\")"
   ]
  },
  {
   "cell_type": "code",
   "execution_count": 55,
   "metadata": {},
   "outputs": [
    {
     "data": {
      "text/html": [
       "<div>\n",
       "<style scoped>\n",
       "    .dataframe tbody tr th:only-of-type {\n",
       "        vertical-align: middle;\n",
       "    }\n",
       "\n",
       "    .dataframe tbody tr th {\n",
       "        vertical-align: top;\n",
       "    }\n",
       "\n",
       "    .dataframe thead th {\n",
       "        text-align: right;\n",
       "    }\n",
       "</style>\n",
       "<table border=\"1\" class=\"dataframe\">\n",
       "  <thead>\n",
       "    <tr style=\"text-align: right;\">\n",
       "      <th></th>\n",
       "      <th>title</th>\n",
       "      <th>url</th>\n",
       "      <th>article_txt</th>\n",
       "    </tr>\n",
       "  </thead>\n",
       "  <tbody>\n",
       "    <tr>\n",
       "      <th>0</th>\n",
       "      <td>FBI uncovered Russian bribery plot before Obam...</td>\n",
       "      <td>http://thehill.com/policy/national-security/35...</td>\n",
       "      <td>Before the Obama administration approved a con...</td>\n",
       "    </tr>\n",
       "    <tr>\n",
       "      <th>1</th>\n",
       "      <td>Keese Love Everyone -- Find him and bring him ...</td>\n",
       "      <td>http://thegatewaypundit.com/2020/08/breaking-4...</td>\n",
       "      <td>The anonymous message board 4Chan has once aga...</td>\n",
       "    </tr>\n",
       "    <tr>\n",
       "      <th>2</th>\n",
       "      <td>Muslims hand out thousands of roses at London ...</td>\n",
       "      <td>http://www.standard.co.uk/news/london/muslims-...</td>\n",
       "      <td>ES News email The latest headlines in your inb...</td>\n",
       "    </tr>\n",
       "    <tr>\n",
       "      <th>3</th>\n",
       "      <td>Kendrick Ray Castillo, the 18-year-old who sac...</td>\n",
       "      <td>https://reuters.com/article/us-colorado-shooti...</td>\n",
       "      <td>(The story corrected source in paragraph 11 of...</td>\n",
       "    </tr>\n",
       "    <tr>\n",
       "      <th>4</th>\n",
       "      <td>DNC staffer murdered, was the leak to wikileaks.</td>\n",
       "      <td>http://www.foxnews.com/politics/2017/05/16/sla...</td>\n",
       "      <td>None</td>\n",
       "    </tr>\n",
       "  </tbody>\n",
       "</table>\n",
       "</div>"
      ],
      "text/plain": [
       "                                               title  \\\n",
       "0  FBI uncovered Russian bribery plot before Obam...   \n",
       "1  Keese Love Everyone -- Find him and bring him ...   \n",
       "2  Muslims hand out thousands of roses at London ...   \n",
       "3  Kendrick Ray Castillo, the 18-year-old who sac...   \n",
       "4   DNC staffer murdered, was the leak to wikileaks.   \n",
       "\n",
       "                                                 url  \\\n",
       "0  http://thehill.com/policy/national-security/35...   \n",
       "1  http://thegatewaypundit.com/2020/08/breaking-4...   \n",
       "2  http://www.standard.co.uk/news/london/muslims-...   \n",
       "3  https://reuters.com/article/us-colorado-shooti...   \n",
       "4  http://www.foxnews.com/politics/2017/05/16/sla...   \n",
       "\n",
       "                                         article_txt  \n",
       "0  Before the Obama administration approved a con...  \n",
       "1  The anonymous message board 4Chan has once aga...  \n",
       "2  ES News email The latest headlines in your inb...  \n",
       "3  (The story corrected source in paragraph 11 of...  \n",
       "4                                               None  "
      ]
     },
     "execution_count": 55,
     "metadata": {},
     "output_type": "execute_result"
    }
   ],
   "source": [
    "# Load the csv file as dataframe\n",
    "justgoodnews = pd.read_csv(\"reddit_news_data/justgoodnews_dataset_0_1000.csv\")\n",
    "justgoodnews.head()"
   ]
  },
  {
   "cell_type": "code",
   "execution_count": 56,
   "metadata": {},
   "outputs": [
    {
     "data": {
      "text/plain": [
       "(893, 3)"
      ]
     },
     "execution_count": 56,
     "metadata": {},
     "output_type": "execute_result"
    }
   ],
   "source": [
    "# Drop None & NaN -> appears if the scraping was not successful\n",
    "justgoodnews.dropna(inplace=True)\n",
    "justgoodnews = justgoodnews[justgoodnews[\"article_txt\"] != \"None\"]\n",
    "justgoodnews.shape"
   ]
  },
  {
   "cell_type": "code",
   "execution_count": null,
   "metadata": {},
   "outputs": [],
   "source": [
    "# Safe the new/cleaned dataframe as csv \n",
    "justgoodnews.to_csv(\"reddit_news_data/cleaned/reddit_justgoodnews.csv\", index=False)"
   ]
  },
  {
   "cell_type": "markdown",
   "metadata": {},
   "source": [
    "---"
   ]
  },
  {
   "cell_type": "markdown",
   "metadata": {},
   "source": [
    "#### r/JustBadNews"
   ]
  },
  {
   "cell_type": "code",
   "execution_count": 52,
   "metadata": {},
   "outputs": [],
   "source": [
    "df = get_reddit_details('JustBadNews')"
   ]
  },
  {
   "cell_type": "code",
   "execution_count": 53,
   "metadata": {},
   "outputs": [
    {
     "data": {
      "text/plain": [
       "1000"
      ]
     },
     "execution_count": 53,
     "metadata": {},
     "output_type": "execute_result"
    }
   ],
   "source": [
    "link_list = df.url.tolist()\n",
    "len(link_list)"
   ]
  },
  {
   "cell_type": "code",
   "execution_count": 54,
   "metadata": {},
   "outputs": [
    {
     "name": "stdout",
     "output_type": "stream",
     "text": [
      "# Articles: 1000\n",
      "# bad: 94\n",
      "# good: 906\n"
     ]
    }
   ],
   "source": [
    "get_articles(0,df.shape[0],\"JustBadNews\")"
   ]
  },
  {
   "cell_type": "code",
   "execution_count": 103,
   "metadata": {},
   "outputs": [],
   "source": [
    "# Load the csv file as dataframe\n",
    "justbadnews = pd.read_csv(\"reddit_news_data/justbadnews_dataset_0_1000.csv\")"
   ]
  },
  {
   "cell_type": "code",
   "execution_count": 104,
   "metadata": {},
   "outputs": [
    {
     "data": {
      "text/plain": [
       "article_txt    Join the conversation\\n\\nYou can post now and register later. If you have an account, sign in now to post with your account.\n",
       "Name: 0, dtype: object"
      ]
     },
     "execution_count": 104,
     "metadata": {},
     "output_type": "execute_result"
    }
   ],
   "source": [
    "justbadnews[[\"article_txt\"]].iloc[0]"
   ]
  },
  {
   "cell_type": "code",
   "execution_count": 105,
   "metadata": {},
   "outputs": [
    {
     "data": {
      "text/html": [
       "<div>\n",
       "<style scoped>\n",
       "    .dataframe tbody tr th:only-of-type {\n",
       "        vertical-align: middle;\n",
       "    }\n",
       "\n",
       "    .dataframe tbody tr th {\n",
       "        vertical-align: top;\n",
       "    }\n",
       "\n",
       "    .dataframe thead th {\n",
       "        text-align: right;\n",
       "    }\n",
       "</style>\n",
       "<table border=\"1\" class=\"dataframe\">\n",
       "  <thead>\n",
       "    <tr style=\"text-align: right;\">\n",
       "      <th></th>\n",
       "      <th>title</th>\n",
       "      <th>url</th>\n",
       "      <th>article_txt</th>\n",
       "    </tr>\n",
       "  </thead>\n",
       "  <tbody>\n",
       "    <tr>\n",
       "      <th>0</th>\n",
       "      <td>QM Can Be Seen From This Angle, a conversation with an angry person.</td>\n",
       "      <td>http://scienceforums.com/topic/36429-could-qm-be-seen-from-this-angle-a-conversation-with-an-angry-person/</td>\n",
       "      <td>Join the conversation\\n\\nYou can post now and register later. If you have an account, sign in now to post with your account.</td>\n",
       "    </tr>\n",
       "    <tr>\n",
       "      <th>1</th>\n",
       "      <td>Senior US prosecutor Bharara fired 'after refusing Trump call'</td>\n",
       "      <td>http://www.bbc.com/news/world-us-canada-40243184</td>\n",
       "      <td>\"The number of times I would have been expected to be called by the president of the United States would be zero because there has to be some kind of arm's-length relationship given the jurisdiction that various people had.\"</td>\n",
       "    </tr>\n",
       "    <tr>\n",
       "      <th>2</th>\n",
       "      <td>Trump revealed highly classified information to Russian foreign minister and ambassador</td>\n",
       "      <td>https://www.washingtonpost.com/world/national-security/trump-revealed-highly-classified-information-to-russian-foreign-minister-and-ambassador/2017/05/15/530c172a-3960-11e7-9e48-c4f199710b69_story.html?utm_term=.5f5763864490</td>\n",
       "      <td>Please enable cookies on your web browser in order to continue.\\n\\nThe new European data protection law requires us to inform you of the following before you use our website:\\n\\nWe use cookies and other technologies to customize your experience, perform analytics and deliver personalized advertising on our sites, apps and newsletters and across the Internet based on your interests. By clicking “I agree” below, you consent to the use by us and our third-party partners of cookies and data gathered from your use of our platforms. See our Privacy Policy and Third Party Partners to learn more about the use of data and your rights. You also agree to our Terms of Service.</td>\n",
       "    </tr>\n",
       "    <tr>\n",
       "      <th>3</th>\n",
       "      <td>Woman accuses Al Franken of kissing, groping her without consent | TheHill</td>\n",
       "      <td>http://thehill.com/homenews/news/360656-woman-accuses-al-franken-of-kissing-groping-her-without-consent</td>\n",
       "      <td>A TV host and sports broadcaster on Thursday accused Sen. Al Franken Alan (Al) Stuart FrankenTina Smith and Jason Lewis tied in Minnesota Ted Cruz mocks Al Franken over 'I Hate Ted Cruz Pint Glass' GOP Senate candidate says Trump, Republicans will surprise in Minnesota MORE (D-Minn.) of kissing and groping her without her consent in 2006.\\n\\nLeeann Tweeden accused Franken of groping her, without her consent, while she was asleep and provided a photo as evidence.\\n\\nKABC anchor: Senator Al Franken Kissed and Groped Me Without My Consent, And There’s Nothing Funny About It https://t.co/lG4A1ZTUhC pic.twitter.com/EYIzr9ok2s — Meridith McGraw (@meridithmcgraw) November 16, 2017\\n\\nThe incident happened in December 2006, she said, when she and Franken, then a comedian, were on a USO tour to \"entertain our troops.\"\\n\\nFranken in a statement apologized for his actions.\\n\\n\\n\\nADVERTISEMENT\\n\\n\"It wasn’t until I was back in the U.S. and looking through the CD of photos we were given by the photographer that I saw this one,\" Tweeden wrote about the photo on KABC.\\n\\n\"I felt violated all over again. Embarrassed. Belittled. Humiliated,\" she wrote. \"How dare anyone grab my breasts like this and think it’s funny?\"\\n\\nTweeden wrote that Franken, who was the headliner on the tour, had written some skits and told her he had a part for her, adding that she \"agreed to play along.\"\\n\\n\"When I saw the script, Franken had written a moment when his character comes at me for a ‘kiss’. I suspected what he was after, but I figured I could turn my head at the last minute, or put my hand over his mouth, to get more laughs from the crowd,\" she wrote.\\n\\n\"On the day of the show Franken and I were alone backstage going over our lines one last time. He said to me, 'We need to rehearse the kiss.' I laughed and ignored him. Then he said it again. I said something like, ‘Relax Al, this isn’t SNL…we don’t need to rehearse the kiss.’\"\\n\\nShe wrote Franken continued to insist and she got \"uncomfortable.\"\\n\\n\"He repeated that actors really need to rehearse everything and that we must practice the kiss. I said ‘OK’ so he would stop badgering me. We did the line leading up to the kiss and then he came at me, put his hand on the back of my head, mashed his lips against mine and aggressively stuck his tongue in my mouth,\" she wrote.\\n\\n\"I immediately pushed him away with both of my hands against his chest and told him if he ever did that to me again I wouldn’t be so nice about it the next time.\"\\n\\nShe said she felt disgusted and violated. She added that she didn't tell anyone what happened at the time, but she was \"angry.\"\\n\\nTweeden also said she fell asleep while on the plane back to the U.S. She said is wasn't until she saw the photo of Franken groping her that she told her husband what had happened and showed him the photo.\\n\\n\"I wanted to shout my story to the world with a megaphone to anyone who would listen, but even as angry as I was, I was worried about the potential backlash and damage going public might have on my career as a broadcaster,\" she wrote.\\n\\n\"But that was then, this is now. I’m no longer afraid.\"\\n\\nShe said she is sharing her story because there may be others.\\n\\n\"I want the days of silence to be over forever,\" she wrote.\\n\\nTweeden also issued a direct statement to Franken.\\n\\n\"Senator Franken, you wrote the script. But there’s nothing funny about sexual assault,\" she wrote.\\n\\n\"You knew exactly what you were doing. You forcibly kissed me without my consent, grabbed my breasts while I was sleeping and had someone take a photo of you doing it, knowing I would see it later, and be ashamed.\"\\n\\nFranken said he does not remember the incident the same way but acknowledged the photo \"wasn't\" funny.\\n\\n“I certainly don’t remember the rehearsal for the skit in the same way, but I send my sincerest apologies to Leeann. As to the photo, it was clearly intended to be funny but wasn't. I shouldn't have done it,\" he said in a statement.\\n\\nTweeden's comments come amid increased reports of sexual harassment in the workplace, including on Capitol Hill. Multiple women in Congress have come forward to say they have been victims of sexual harassment, prompting lawmakers to call for reform.\\n\\nRep. Jackie Speier (D-Calif.) said Tuesday the House has paid out $15 million in harassment settlements over more than a decade, though a spokesperson later clarified that figure does not only account for sexual harassment claims.\\n\\nShe said at a Tuesday hearing that two current members of Congress, one Republican and one Democrat, have been accused of sexual harassment.\\n\\nHer comments come after multiple women have accused GOP Senate candidate Roy Moore of sexual misconduct. Moore is facing growing calls from top Republicans to step aside in the Alabama race, though he has indicated he plans to continue running.\\n\\nThis report was updated at 11:07 a.m.</td>\n",
       "    </tr>\n",
       "    <tr>\n",
       "      <th>4</th>\n",
       "      <td>False flag attack that would frame refugees foiled in Germany.</td>\n",
       "      <td>http://www.independent.co.uk/news/world/europe/german-soldier-syria-refugee-false-flag-terror-attack-posing-arrested-frankfurt-france-bavaria-a7705231.html</td>\n",
       "      <td>A German soldier found posing as a Syrian refugee has been arrested for allegedly planning a “false flag” shooting attack that would be blamed on asylum seekers.\\n\\nThe unidentified soldier was detained when he went to retrieve a loaded pistol he had hidden in a bathroom at Vienna International Airport.\\n\\nThe public prosecutor’s office in Frankfurt said the 28-year-old is suspected of planning a serious “state-threatening act of violence”, fraud and violating firearms laws.\\n\\nMore than 90 German police officers have worked alongside Austrian and French security forces to search 16 locations across three countries on Wednesday, when a suspected accomplice was arrested in Bavaria.\\n\\nThe suspect was stationed at Illkirch-Graffenstaden, eastern France. (AFP/Getty Images) (AFP)\\n\\nInvestigations have revealed that the Bundeswehr lieutenant was stationed at Illkirch-Graffenstaden in France before registering as a refugee back in Germany.\\n\\nHe gave false information to authorities in Giessen, Hesse, on 30 December 2015 – as Germany was overwhelmed by the arrival of almost a million asylum seekers.\\n\\nPosing as a Syrian refugee but reportedly speaking in French, rather than Arabic, the man submitted an asylum application at Zirndorf in Bavaria in January last year.\\n\\n“As a result, he was given shelter in a refugee home and has received monthly financial benefits under this false identity,” the Frankfurt prosecutor’s office said.\\n\\n“These findings, as well as other evidence, point towards a xenophobic motive for the soldier’s suspected plan to commit an attack using a weapon deposited at Vienna airport.”\\n\\nIf his plan had succeeded, his fingerprints would have registered on the refugee records system and led investigators to his false identity as a Syrian asylum seeker, turning fresh scrutiny on migrants in Germany.\\n\\nRefugees settle in Germany Show all 12 1 /12 Refugees settle in Germany Refugees settle in Germany Germany Mohamed Zayat, a refugee from Syria, plays with his daughter Ranim, who is nearly 3, in the one room they and Mohamed's wife Laloosh call home at an asylum-seekers' shelter in Vossberg village on October 9, 2015 in Letschin, Germany. The Zayats arrived approximately two months ago after trekking through Turkey, Greece and the Balkans and are now waiting for local authorities to process their asylum application, after which they will be allowed to live independently and settle elsewhere in Germany. Approximately 60 asylum-seekers, mostly from Syria, Chechnya and Somalia, live at the Vossberg shelter, which is run by the Arbeiter-Samariter Bund (ASB) charity 2015 Getty Images Refugees settle in Germany Germany A refugee child Amnat Musayeva points to a star with her photo and name that decorates the door to her classroom as teacher Martina Fischer looks on at the local kindergarten Amnat and her siblings attend on October 9, 2015 in Letschin, Germany. The children live with their family at an asylum-seekers' shelter in nearby Vossberg village and are waiting for local authorities to process their asylum applications. Approximately 60 asylum-seekers, mostly from Syria, Chechnya and Somalia, live at the Vossberg shelter, which is run by the Arbeiter-Samariter Bund (ASB) charity Getty Images Refugees settle in Germany Germany Kurdish Syrian asylum-applicant Mohamed Ali Hussein (R), 19, and fellow applicant Autur, from Latvia, load benches onto a truckbed while performing community service, for which they receive a small allowance, in Wilhelmsaue village on October 9, 2015 near Letschin, Germany. Mohamed and Autur live at an asylum-applicants' shelter in nearby Vossberg village. Approximately 60 asylum-seekers, mostly from Syria, Chechnya and Somalia, live at the Vossberg shelter, which is run by the Arbeiter-Samariter Bund (ASB) charity Getty Images Refugees settle in Germany Germany Mohamed Ali Hussein ((L), 19, and his cousin Sinjar Hussein, 34, sweep leaves at a cemetery in Gieshof village, for which they receive a small allowance, near Letschin Getty Images Refugees settle in Germany Germany Mohamed Zayat, a refugee from Syria, looks among donated clothing in the basement of the asylum-seekers' shelter that is home to Mohamed, his wife Laloosh and their daughter Ranim as residents' laundry dries behind in Vossberg village on October 9, 2015 in Letschin, Germany. The Zayats arrived approximately two months ago after trekking through Turkey, Greece and the Balkans and are now waiting for local authorities to process their asylum application, after which they will be allowed to live independently and settle elsewhere in Germany Getty Images Refugees settle in Germany Germany Asya Sugaipova (L), Mohza Mukayeva and Khadra Zhukova prepare food in the communal kitchen at the asylum-seekers' shelter that is their home in Vossberg village in Letschin Getty Images Refugees settle in Germany Germany Efrah Abdullahi Ahmed looks down from the communal kitchen window at her daughter Sumaya, 10, who had just returned from school, at the asylum-seekers' shelter that is their home in Vossberg Getty Images Refugees settle in Germany Germany Asylum-applicants, including Syrians Mohamed Ali Hussein (C-R, in black jacket) and Fadi Almasalmeh (C), return from grocery shopping with other refugees to the asylum-applicants' shelter that is their home in Vossberg village in Letschin Getty Images Refugees settle in Germany Germany Mohamed Zayat (2nd from L), a refugee from Syria, smokes a cigarette after shopping for groceries with his daughter Ranim, who is nearly 3, and fellow-Syrian refugees Mohamed Ali Hussein (C) and Fadi Almasalmeh (L) at a local supermarket on October 9, 2015 in Letschin, Germany. All of them live at an asylum-seekers' shelter in nearby Vossberg village and are waiting for local authorities to process their asylum applications, after which they will be allowed to live independently and settle elsewhere in Germany 2015 Getty Images Refugees settle in Germany Germany Kurdish Syrian refugees Leila, 9, carries her sister Avin, 1, in the backyard at the asylum-seekers' shelter that is home to them and their family in Vossberg village in Letschin Getty Images Refugees settle in Germany Germany Somali refugees and husband and wife Said Ahmed Gure (R) and Ayaan Gure pose with their infant son Muzammili, who was born in Germany, in the room they share at an asylum-seekers' shelter in Vossberg village on October 9, 2015 in Letschin, Germany. Approximately 60 asylum-seekers, mostly from Syria, Chechnya and Somalia, live at the Vossberg shelter, which is run by the Arbeiter-Samariter Bund (ASB) charity, and are waiting for authorities to process their application for asylum 2015 Getty Images Refugees settle in Germany Germany German Chancellor Angela Merkel pauses for a selfie with a refugee after she visited the AWO Refugium Askanierring shelter for refugees in Berlin Getty Images\\n\\nIsis has previously used a similar ploy, giving its militants fake Syrian passports that were found at the scene of the Paris attacks.\\n\\nThe man’s suspected accomplice, a 24-year-old student, was arrested in Hammelburg for alleged involvement in the plot.\\n\\nPolice have searched the homes of the two suspects as well as their friends and workplaces, with detectives seizing “extensive material” including mobile phones, laptops and documents.\\n\\nProsecutors said the soldier had no permission for the 7.65mm pistol stashed in Vienna, while illegal weapons were also found at his accomplice’s house.\\n\\nBoth men remain in custody in Frankfurt as the probe continues.\\n\\nThe soldier was arrested days after prosecutors revealed that the man who orchestrated the Dortmund bus bombings had attempted to frame Isis to make money on shares.\\n\\nPolice chief says Germany 'on high alert' after attack\\n\\nSergej W, a dual German-Russian national, detonated three bombs targeting a bus carrying the Borussia Dortmund football team, seriously injuring one player on 11 April.\\n\\nHe left misspelled letters at the scene claiming the attack was retaliation for German military intervention against Isis, but investigations found he was not an Islamist but a trader planning to profit from short-selling shares.\\n\\nA series of Isis-inspired terror attacks and plots in Germany have raised tensions leading into September’s federal elections, where Angela Merkel is battling to win a fourth term as Chancellor.\\n\\nRight-wing groups have blamed her decision to open borders to refugees in 2015, while extremists have launched hundreds of attacks on asylum seekers’ accommodation.\\n\\nAt least two neo-Nazi terror plots have been uncovered, while security services have cracked down on the anti-government Reichsbürger movement after one of its members killed a police officer.</td>\n",
       "    </tr>\n",
       "  </tbody>\n",
       "</table>\n",
       "</div>"
      ],
      "text/plain": [
       "                                                                                     title  \\\n",
       "0  QM Can Be Seen From This Angle, a conversation with an angry person.                      \n",
       "1  Senior US prosecutor Bharara fired 'after refusing Trump call'                            \n",
       "2  Trump revealed highly classified information to Russian foreign minister and ambassador   \n",
       "3  Woman accuses Al Franken of kissing, groping her without consent | TheHill                \n",
       "4  False flag attack that would frame refugees foiled in Germany.                            \n",
       "\n",
       "                                                                                                                                                                                                                                url  \\\n",
       "0  http://scienceforums.com/topic/36429-could-qm-be-seen-from-this-angle-a-conversation-with-an-angry-person/                                                                                                                         \n",
       "1  http://www.bbc.com/news/world-us-canada-40243184                                                                                                                                                                                   \n",
       "2  https://www.washingtonpost.com/world/national-security/trump-revealed-highly-classified-information-to-russian-foreign-minister-and-ambassador/2017/05/15/530c172a-3960-11e7-9e48-c4f199710b69_story.html?utm_term=.5f5763864490   \n",
       "3  http://thehill.com/homenews/news/360656-woman-accuses-al-franken-of-kissing-groping-her-without-consent                                                                                                                            \n",
       "4  http://www.independent.co.uk/news/world/europe/german-soldier-syria-refugee-false-flag-terror-attack-posing-arrested-frankfurt-france-bavaria-a7705231.html                                                                        \n",
       "\n",
       "                                                                                                                                                                                                                                                                                                                                                                                                                                                                                                                                                                                                                                                                                                                                                                                                                                                                                                                                                                                                                                                                                                                                                                                                                                                                                                                                                                                                                                                                                                                                                                                                                                                                                                                                                                                                                                                                                                                                                                                                                                                                                                                                                                                                                                                                                                                                                                                                                                                                                                                                                                                                                                                                                                                                                                                                                                                                                                                                                                                                                                                                                                                                                                                                                                                                                                                                                                                                                                                                                                                                                                                                                                                                                                                                                                                                                                                                                                                                                                                                                                                                                                                                                                                                                                                                                                                                                                                                                                                                                                                                                                                                                                                                                                                                                                                                                                                                                                                                                                                                                                                                                                                                                                                                                                                                                                                                                                                                                                                                                                                                                                                                                                                                                                                                                                                                                                                                                                                                                                                                                                                                                                                                                                                                                                                                                                                                                                                                                                                                                                                                                                                                                                                                                                                                                                                                                                                                                                                                                                                                                                                                                                                                                                                                                                                                                                                                                                                                                                                                                                                                                                                                                                                                                                                                                                                                                                                                                                                                                                                                                                                                                                                                                                                                                                                                                                                                                                                                                                                                                                                                                                                                                                                                                                                                                                                                                                                                                                                                                                                                                                                                                                                                   article_txt  \n",
       "0  Join the conversation\\n\\nYou can post now and register later. If you have an account, sign in now to post with your account.                                                                                                                                                                                                                                                                                                                                                                                                                                                                                                                                                                                                                                                                                                                                                                                                                                                                                                                                                                                                                                                                                                                                                                                                                                                                                                                                                                                                                                                                                                                                                                                                                                                                                                                                                                                                                                                                                                                                                                                                                                                                                                                                                                                                                                                                                                                                                                                                                                                                                                                                                                                                                                                                                                                                                                                                                                                                                                                                                                                                                                                                                                                                                                                                                                                                                                                                                                                                                                                                                                                                                                                                                                                                                                                                                                                                                                                                                                                                                                                                                                                                                                                                                                                                                                                                                                                                                                                                                                                                                                                                                                                                                                                                                                                                                                                                                                                                                                                                                                                                                                                                                                                                                                                                                                                                                                                                                                                                                                                                                                                                                                                                                                                                                                                                                                                                                                                                                                                                                                                                                                                                                                                                                                                                                                                                                                                                                                                                                                                                                                                                                                                                                                                                                                                                                                                                                                                                                                                                                                                                                                                                                                                                                                                                                                                                                                                                                                                                                                                                                                                                                                                                                                                                                                                                                                                                                                                                                                                                                                                                                                                                                                                                                                                                                                                                                                                                                                                                                                                                                                                                                                                                                                                                                                                                                                                                                                                                                                                                                                                                                 \n",
       "1  \"The number of times I would have been expected to be called by the president of the United States would be zero because there has to be some kind of arm's-length relationship given the jurisdiction that various people had.\"                                                                                                                                                                                                                                                                                                                                                                                                                                                                                                                                                                                                                                                                                                                                                                                                                                                                                                                                                                                                                                                                                                                                                                                                                                                                                                                                                                                                                                                                                                                                                                                                                                                                                                                                                                                                                                                                                                                                                                                                                                                                                                                                                                                                                                                                                                                                                                                                                                                                                                                                                                                                                                                                                                                                                                                                                                                                                                                                                                                                                                                                                                                                                                                                                                                                                                                                                                                                                                                                                                                                                                                                                                                                                                                                                                                                                                                                                                                                                                                                                                                                                                                                                                                                                                                                                                                                                                                                                                                                                                                                                                                                                                                                                                                                                                                                                                                                                                                                                                                                                                                                                                                                                                                                                                                                                                                                                                                                                                                                                                                                                                                                                                                                                                                                                                                                                                                                                                                                                                                                                                                                                                                                                                                                                                                                                                                                                                                                                                                                                                                                                                                                                                                                                                                                                                                                                                                                                                                                                                                                                                                                                                                                                                                                                                                                                                                                                                                                                                                                                                                                                                                                                                                                                                                                                                                                                                                                                                                                                                                                                                                                                                                                                                                                                                                                                                                                                                                                                                                                                                                                                                                                                                                                                                                                                                                                                                                                                                             \n",
       "2  Please enable cookies on your web browser in order to continue.\\n\\nThe new European data protection law requires us to inform you of the following before you use our website:\\n\\nWe use cookies and other technologies to customize your experience, perform analytics and deliver personalized advertising on our sites, apps and newsletters and across the Internet based on your interests. By clicking “I agree” below, you consent to the use by us and our third-party partners of cookies and data gathered from your use of our platforms. See our Privacy Policy and Third Party Partners to learn more about the use of data and your rights. You also agree to our Terms of Service.                                                                                                                                                                                                                                                                                                                                                                                                                                                                                                                                                                                                                                                                                                                                                                                                                                                                                                                                                                                                                                                                                                                                                                                                                                                                                                                                                                                                                                                                                                                                                                                                                                                                                                                                                                                                                                                                                                                                                                                                                                                                                                                                                                                                                                                                                                                                                                                                                                                                                                                                                                                                                                                                                                                                                                                                                                                                                                                                                                                                                                                                                                                                                                                                                                                                                                                                                                                                                                                                                                                                                                                                                                                                                                                                                                                                                                                                                                                                                                                                                                                                                                                                                                                                                                                                                                                                                                                                                                                                                                                                                                                                                                                                                                                                                                                                                                                                                                                                                                                                                                                                                                                                                                                                                                                                                                                                                                                                                                                                                                                                                                                                                                                                                                                                                                                                                                                                                                                                                                                                                                                                                                                                                                                                                                                                                                                                                                                                                                                                                                                                                                                                                                                                                                                                                                                                                                                                                                                                                                                                                                                                                                                                                                                                                                                                                                                                                                                                                                                                                                                                                                                                                                                                                                                                                                                                                                                                                                                                                                                                                                                                                                                                                                                                                                                                                                                                                                                                                                            \n",
       "3  A TV host and sports broadcaster on Thursday accused Sen. Al Franken Alan (Al) Stuart FrankenTina Smith and Jason Lewis tied in Minnesota Ted Cruz mocks Al Franken over 'I Hate Ted Cruz Pint Glass' GOP Senate candidate says Trump, Republicans will surprise in Minnesota MORE (D-Minn.) of kissing and groping her without her consent in 2006.\\n\\nLeeann Tweeden accused Franken of groping her, without her consent, while she was asleep and provided a photo as evidence.\\n\\nKABC anchor: Senator Al Franken Kissed and Groped Me Without My Consent, And There’s Nothing Funny About It https://t.co/lG4A1ZTUhC pic.twitter.com/EYIzr9ok2s — Meridith McGraw (@meridithmcgraw) November 16, 2017\\n\\nThe incident happened in December 2006, she said, when she and Franken, then a comedian, were on a USO tour to \"entertain our troops.\"\\n\\nFranken in a statement apologized for his actions.\\n\\n\\n\\nADVERTISEMENT\\n\\n\"It wasn’t until I was back in the U.S. and looking through the CD of photos we were given by the photographer that I saw this one,\" Tweeden wrote about the photo on KABC.\\n\\n\"I felt violated all over again. Embarrassed. Belittled. Humiliated,\" she wrote. \"How dare anyone grab my breasts like this and think it’s funny?\"\\n\\nTweeden wrote that Franken, who was the headliner on the tour, had written some skits and told her he had a part for her, adding that she \"agreed to play along.\"\\n\\n\"When I saw the script, Franken had written a moment when his character comes at me for a ‘kiss’. I suspected what he was after, but I figured I could turn my head at the last minute, or put my hand over his mouth, to get more laughs from the crowd,\" she wrote.\\n\\n\"On the day of the show Franken and I were alone backstage going over our lines one last time. He said to me, 'We need to rehearse the kiss.' I laughed and ignored him. Then he said it again. I said something like, ‘Relax Al, this isn’t SNL…we don’t need to rehearse the kiss.’\"\\n\\nShe wrote Franken continued to insist and she got \"uncomfortable.\"\\n\\n\"He repeated that actors really need to rehearse everything and that we must practice the kiss. I said ‘OK’ so he would stop badgering me. We did the line leading up to the kiss and then he came at me, put his hand on the back of my head, mashed his lips against mine and aggressively stuck his tongue in my mouth,\" she wrote.\\n\\n\"I immediately pushed him away with both of my hands against his chest and told him if he ever did that to me again I wouldn’t be so nice about it the next time.\"\\n\\nShe said she felt disgusted and violated. She added that she didn't tell anyone what happened at the time, but she was \"angry.\"\\n\\nTweeden also said she fell asleep while on the plane back to the U.S. She said is wasn't until she saw the photo of Franken groping her that she told her husband what had happened and showed him the photo.\\n\\n\"I wanted to shout my story to the world with a megaphone to anyone who would listen, but even as angry as I was, I was worried about the potential backlash and damage going public might have on my career as a broadcaster,\" she wrote.\\n\\n\"But that was then, this is now. I’m no longer afraid.\"\\n\\nShe said she is sharing her story because there may be others.\\n\\n\"I want the days of silence to be over forever,\" she wrote.\\n\\nTweeden also issued a direct statement to Franken.\\n\\n\"Senator Franken, you wrote the script. But there’s nothing funny about sexual assault,\" she wrote.\\n\\n\"You knew exactly what you were doing. You forcibly kissed me without my consent, grabbed my breasts while I was sleeping and had someone take a photo of you doing it, knowing I would see it later, and be ashamed.\"\\n\\nFranken said he does not remember the incident the same way but acknowledged the photo \"wasn't\" funny.\\n\\n“I certainly don’t remember the rehearsal for the skit in the same way, but I send my sincerest apologies to Leeann. As to the photo, it was clearly intended to be funny but wasn't. I shouldn't have done it,\" he said in a statement.\\n\\nTweeden's comments come amid increased reports of sexual harassment in the workplace, including on Capitol Hill. Multiple women in Congress have come forward to say they have been victims of sexual harassment, prompting lawmakers to call for reform.\\n\\nRep. Jackie Speier (D-Calif.) said Tuesday the House has paid out $15 million in harassment settlements over more than a decade, though a spokesperson later clarified that figure does not only account for sexual harassment claims.\\n\\nShe said at a Tuesday hearing that two current members of Congress, one Republican and one Democrat, have been accused of sexual harassment.\\n\\nHer comments come after multiple women have accused GOP Senate candidate Roy Moore of sexual misconduct. Moore is facing growing calls from top Republicans to step aside in the Alabama race, though he has indicated he plans to continue running.\\n\\nThis report was updated at 11:07 a.m.                                                                                                                                                                                                                                                                                                                                                                                                                                                                                                                                                                                                                                                                                                                                                                                                                                                                                                                                                                                                                                                                                                                                                                                                                                                                                                                                                                                                                                                                                                                                                                                                                                                                                                                                                                                                                                                                                                                                                                                                                                                                                                                                                                                                                                                                                                                                                                                                                                                                                                                                                                                                                                                                                                                                                                                                                                                                                                                                                                                                                                                                                                                                                                                                                                                                                                                                                                                                                                                                                                                                                                                                                                                                                                                                                                                                                                                                                                                                                                                                                                        \n",
       "4  A German soldier found posing as a Syrian refugee has been arrested for allegedly planning a “false flag” shooting attack that would be blamed on asylum seekers.\\n\\nThe unidentified soldier was detained when he went to retrieve a loaded pistol he had hidden in a bathroom at Vienna International Airport.\\n\\nThe public prosecutor’s office in Frankfurt said the 28-year-old is suspected of planning a serious “state-threatening act of violence”, fraud and violating firearms laws.\\n\\nMore than 90 German police officers have worked alongside Austrian and French security forces to search 16 locations across three countries on Wednesday, when a suspected accomplice was arrested in Bavaria.\\n\\nThe suspect was stationed at Illkirch-Graffenstaden, eastern France. (AFP/Getty Images) (AFP)\\n\\nInvestigations have revealed that the Bundeswehr lieutenant was stationed at Illkirch-Graffenstaden in France before registering as a refugee back in Germany.\\n\\nHe gave false information to authorities in Giessen, Hesse, on 30 December 2015 – as Germany was overwhelmed by the arrival of almost a million asylum seekers.\\n\\nPosing as a Syrian refugee but reportedly speaking in French, rather than Arabic, the man submitted an asylum application at Zirndorf in Bavaria in January last year.\\n\\n“As a result, he was given shelter in a refugee home and has received monthly financial benefits under this false identity,” the Frankfurt prosecutor’s office said.\\n\\n“These findings, as well as other evidence, point towards a xenophobic motive for the soldier’s suspected plan to commit an attack using a weapon deposited at Vienna airport.”\\n\\nIf his plan had succeeded, his fingerprints would have registered on the refugee records system and led investigators to his false identity as a Syrian asylum seeker, turning fresh scrutiny on migrants in Germany.\\n\\nRefugees settle in Germany Show all 12 1 /12 Refugees settle in Germany Refugees settle in Germany Germany Mohamed Zayat, a refugee from Syria, plays with his daughter Ranim, who is nearly 3, in the one room they and Mohamed's wife Laloosh call home at an asylum-seekers' shelter in Vossberg village on October 9, 2015 in Letschin, Germany. The Zayats arrived approximately two months ago after trekking through Turkey, Greece and the Balkans and are now waiting for local authorities to process their asylum application, after which they will be allowed to live independently and settle elsewhere in Germany. Approximately 60 asylum-seekers, mostly from Syria, Chechnya and Somalia, live at the Vossberg shelter, which is run by the Arbeiter-Samariter Bund (ASB) charity 2015 Getty Images Refugees settle in Germany Germany A refugee child Amnat Musayeva points to a star with her photo and name that decorates the door to her classroom as teacher Martina Fischer looks on at the local kindergarten Amnat and her siblings attend on October 9, 2015 in Letschin, Germany. The children live with their family at an asylum-seekers' shelter in nearby Vossberg village and are waiting for local authorities to process their asylum applications. Approximately 60 asylum-seekers, mostly from Syria, Chechnya and Somalia, live at the Vossberg shelter, which is run by the Arbeiter-Samariter Bund (ASB) charity Getty Images Refugees settle in Germany Germany Kurdish Syrian asylum-applicant Mohamed Ali Hussein (R), 19, and fellow applicant Autur, from Latvia, load benches onto a truckbed while performing community service, for which they receive a small allowance, in Wilhelmsaue village on October 9, 2015 near Letschin, Germany. Mohamed and Autur live at an asylum-applicants' shelter in nearby Vossberg village. Approximately 60 asylum-seekers, mostly from Syria, Chechnya and Somalia, live at the Vossberg shelter, which is run by the Arbeiter-Samariter Bund (ASB) charity Getty Images Refugees settle in Germany Germany Mohamed Ali Hussein ((L), 19, and his cousin Sinjar Hussein, 34, sweep leaves at a cemetery in Gieshof village, for which they receive a small allowance, near Letschin Getty Images Refugees settle in Germany Germany Mohamed Zayat, a refugee from Syria, looks among donated clothing in the basement of the asylum-seekers' shelter that is home to Mohamed, his wife Laloosh and their daughter Ranim as residents' laundry dries behind in Vossberg village on October 9, 2015 in Letschin, Germany. The Zayats arrived approximately two months ago after trekking through Turkey, Greece and the Balkans and are now waiting for local authorities to process their asylum application, after which they will be allowed to live independently and settle elsewhere in Germany Getty Images Refugees settle in Germany Germany Asya Sugaipova (L), Mohza Mukayeva and Khadra Zhukova prepare food in the communal kitchen at the asylum-seekers' shelter that is their home in Vossberg village in Letschin Getty Images Refugees settle in Germany Germany Efrah Abdullahi Ahmed looks down from the communal kitchen window at her daughter Sumaya, 10, who had just returned from school, at the asylum-seekers' shelter that is their home in Vossberg Getty Images Refugees settle in Germany Germany Asylum-applicants, including Syrians Mohamed Ali Hussein (C-R, in black jacket) and Fadi Almasalmeh (C), return from grocery shopping with other refugees to the asylum-applicants' shelter that is their home in Vossberg village in Letschin Getty Images Refugees settle in Germany Germany Mohamed Zayat (2nd from L), a refugee from Syria, smokes a cigarette after shopping for groceries with his daughter Ranim, who is nearly 3, and fellow-Syrian refugees Mohamed Ali Hussein (C) and Fadi Almasalmeh (L) at a local supermarket on October 9, 2015 in Letschin, Germany. All of them live at an asylum-seekers' shelter in nearby Vossberg village and are waiting for local authorities to process their asylum applications, after which they will be allowed to live independently and settle elsewhere in Germany 2015 Getty Images Refugees settle in Germany Germany Kurdish Syrian refugees Leila, 9, carries her sister Avin, 1, in the backyard at the asylum-seekers' shelter that is home to them and their family in Vossberg village in Letschin Getty Images Refugees settle in Germany Germany Somali refugees and husband and wife Said Ahmed Gure (R) and Ayaan Gure pose with their infant son Muzammili, who was born in Germany, in the room they share at an asylum-seekers' shelter in Vossberg village on October 9, 2015 in Letschin, Germany. Approximately 60 asylum-seekers, mostly from Syria, Chechnya and Somalia, live at the Vossberg shelter, which is run by the Arbeiter-Samariter Bund (ASB) charity, and are waiting for authorities to process their application for asylum 2015 Getty Images Refugees settle in Germany Germany German Chancellor Angela Merkel pauses for a selfie with a refugee after she visited the AWO Refugium Askanierring shelter for refugees in Berlin Getty Images\\n\\nIsis has previously used a similar ploy, giving its militants fake Syrian passports that were found at the scene of the Paris attacks.\\n\\nThe man’s suspected accomplice, a 24-year-old student, was arrested in Hammelburg for alleged involvement in the plot.\\n\\nPolice have searched the homes of the two suspects as well as their friends and workplaces, with detectives seizing “extensive material” including mobile phones, laptops and documents.\\n\\nProsecutors said the soldier had no permission for the 7.65mm pistol stashed in Vienna, while illegal weapons were also found at his accomplice’s house.\\n\\nBoth men remain in custody in Frankfurt as the probe continues.\\n\\nThe soldier was arrested days after prosecutors revealed that the man who orchestrated the Dortmund bus bombings had attempted to frame Isis to make money on shares.\\n\\nPolice chief says Germany 'on high alert' after attack\\n\\nSergej W, a dual German-Russian national, detonated three bombs targeting a bus carrying the Borussia Dortmund football team, seriously injuring one player on 11 April.\\n\\nHe left misspelled letters at the scene claiming the attack was retaliation for German military intervention against Isis, but investigations found he was not an Islamist but a trader planning to profit from short-selling shares.\\n\\nA series of Isis-inspired terror attacks and plots in Germany have raised tensions leading into September’s federal elections, where Angela Merkel is battling to win a fourth term as Chancellor.\\n\\nRight-wing groups have blamed her decision to open borders to refugees in 2015, while extremists have launched hundreds of attacks on asylum seekers’ accommodation.\\n\\nAt least two neo-Nazi terror plots have been uncovered, while security services have cracked down on the anti-government Reichsbürger movement after one of its members killed a police officer.  "
      ]
     },
     "execution_count": 105,
     "metadata": {},
     "output_type": "execute_result"
    }
   ],
   "source": [
    "justbadnews.head()"
   ]
  },
  {
   "cell_type": "markdown",
   "metadata": {},
   "source": [
    "We can see that in row 2 is an error because there is a message about cookie enabling. In row 0 we can also see an error -> \"If you have an account, sign in now to post with your account\". \n",
    "So we have to be careful in the further process and do more data cleaning."
   ]
  },
  {
   "cell_type": "code",
   "execution_count": 106,
   "metadata": {},
   "outputs": [
    {
     "ename": "TypeError",
     "evalue": "argument of type 'float' is not iterable",
     "output_type": "error",
     "traceback": [
      "\u001b[1;31m---------------------------------------------------------------------------\u001b[0m",
      "\u001b[1;31mTypeError\u001b[0m                                 Traceback (most recent call last)",
      "\u001b[1;32m<ipython-input-106-6ad185a7b67a>\u001b[0m in \u001b[0;36m<module>\u001b[1;34m\u001b[0m\n\u001b[0;32m      2\u001b[0m \u001b[0ml\u001b[0m \u001b[1;33m=\u001b[0m \u001b[1;33m[\u001b[0m\u001b[1;33m]\u001b[0m\u001b[1;33m\u001b[0m\u001b[1;33m\u001b[0m\u001b[0m\n\u001b[0;32m      3\u001b[0m \u001b[1;32mfor\u001b[0m \u001b[0ma\u001b[0m \u001b[1;32min\u001b[0m \u001b[0mjustbadnews\u001b[0m\u001b[1;33m.\u001b[0m\u001b[0marticle_txt\u001b[0m\u001b[1;33m:\u001b[0m\u001b[1;33m\u001b[0m\u001b[1;33m\u001b[0m\u001b[0m\n\u001b[1;32m----> 4\u001b[1;33m     \u001b[1;32mif\u001b[0m \u001b[1;34m\"cookies\"\u001b[0m \u001b[1;32min\u001b[0m \u001b[0ma\u001b[0m\u001b[1;33m:\u001b[0m\u001b[1;33m\u001b[0m\u001b[1;33m\u001b[0m\u001b[0m\n\u001b[0m\u001b[0;32m      5\u001b[0m         \u001b[1;31m#print(a)\u001b[0m\u001b[1;33m\u001b[0m\u001b[1;33m\u001b[0m\u001b[1;33m\u001b[0m\u001b[0m\n\u001b[0;32m      6\u001b[0m         \u001b[1;31m#print(\"---\"*30)\u001b[0m\u001b[1;33m\u001b[0m\u001b[1;33m\u001b[0m\u001b[1;33m\u001b[0m\u001b[0m\n",
      "\u001b[1;31mTypeError\u001b[0m: argument of type 'float' is not iterable"
     ]
    }
   ],
   "source": [
    "# We can try to find the articles_txts where the cookie message appears\n",
    "l = []\n",
    "for a in justbadnews.article_txt:\n",
    "    if \"cookies\" in a: \n",
    "        #print(a)\n",
    "        #print(\"---\"*30)\n",
    "        l.append(a)  \n",
    "print(len(l))\n"
   ]
  },
  {
   "cell_type": "code",
   "execution_count": 84,
   "metadata": {},
   "outputs": [
    {
     "data": {
      "text/plain": [
       "(865, 3)"
      ]
     },
     "execution_count": 84,
     "metadata": {},
     "output_type": "execute_result"
    }
   ],
   "source": [
    "justbadnews = justbadnews[[True if 'cookies' not in i else False for i in justbadnews.article_txt.values]]\n",
    "justbadnews.shape"
   ]
  },
  {
   "cell_type": "code",
   "execution_count": 100,
   "metadata": {},
   "outputs": [
    {
     "ename": "TypeError",
     "evalue": "argument of type 'float' is not iterable",
     "output_type": "error",
     "traceback": [
      "\u001b[1;31m---------------------------------------------------------------------------\u001b[0m",
      "\u001b[1;31mTypeError\u001b[0m                                 Traceback (most recent call last)",
      "\u001b[1;32m<ipython-input-100-aa8480296e2c>\u001b[0m in \u001b[0;36m<module>\u001b[1;34m\u001b[0m\n\u001b[0;32m      1\u001b[0m \u001b[0ml\u001b[0m \u001b[1;33m=\u001b[0m \u001b[1;33m[\u001b[0m\u001b[1;33m]\u001b[0m\u001b[1;33m\u001b[0m\u001b[1;33m\u001b[0m\u001b[0m\n\u001b[0;32m      2\u001b[0m \u001b[1;32mfor\u001b[0m \u001b[0ma\u001b[0m \u001b[1;32min\u001b[0m \u001b[0mjustbadnews\u001b[0m\u001b[1;33m.\u001b[0m\u001b[0marticle_txt\u001b[0m\u001b[1;33m:\u001b[0m\u001b[1;33m\u001b[0m\u001b[1;33m\u001b[0m\u001b[0m\n\u001b[1;32m----> 3\u001b[1;33m     \u001b[1;32mif\u001b[0m \u001b[1;34m\"sign in\"\u001b[0m \u001b[1;32min\u001b[0m \u001b[0ma\u001b[0m\u001b[1;33m:\u001b[0m\u001b[1;33m\u001b[0m\u001b[1;33m\u001b[0m\u001b[0m\n\u001b[0m\u001b[0;32m      4\u001b[0m         \u001b[1;31m#print(a)\u001b[0m\u001b[1;33m\u001b[0m\u001b[1;33m\u001b[0m\u001b[1;33m\u001b[0m\u001b[0m\n\u001b[0;32m      5\u001b[0m         \u001b[1;31m#print(\"---\"*30)\u001b[0m\u001b[1;33m\u001b[0m\u001b[1;33m\u001b[0m\u001b[1;33m\u001b[0m\u001b[0m\n",
      "\u001b[1;31mTypeError\u001b[0m: argument of type 'float' is not iterable"
     ]
    }
   ],
   "source": [
    "l = []\n",
    "for a in justbadnews.article_txt:\n",
    "    if \"sign in\" in a: \n",
    "        #print(a)\n",
    "        #print(\"---\"*30)\n",
    "        l.append(a)  \n",
    "print(len(l))"
   ]
  },
  {
   "cell_type": "code",
   "execution_count": null,
   "metadata": {},
   "outputs": [],
   "source": [
    "justbadnews = justbadnews[[True if 'sign in' not in i else False for i in justbadnews.article_txt.values]]\n",
    "justbadnews.shape"
   ]
  },
  {
   "cell_type": "code",
   "execution_count": 60,
   "metadata": {},
   "outputs": [
    {
     "data": {
      "text/plain": [
       "(893, 3)"
      ]
     },
     "execution_count": 60,
     "metadata": {},
     "output_type": "execute_result"
    }
   ],
   "source": [
    "# Drop None & NaN -> appears if the scraping was not successful\n",
    "justbadnews.dropna(inplace=True)\n",
    "justbadnews = justbadnews[justbadnews[\"article_txt\"] != \"None\"]\n",
    "justbadnews.shape"
   ]
  },
  {
   "cell_type": "code",
   "execution_count": null,
   "metadata": {},
   "outputs": [],
   "source": [
    "# Safe the new/cleaned dataframe as csv \n",
    "justbadnews.to_csv(\"reddit_news_data/cleaned/reddit_justbadnews.csv\", index=False)"
   ]
  }
 ],
 "metadata": {
  "kernelspec": {
   "display_name": "Python 3",
   "language": "python",
   "name": "python3"
  },
  "language_info": {
   "codemirror_mode": {
    "name": "ipython",
    "version": 3
   },
   "file_extension": ".py",
   "mimetype": "text/x-python",
   "name": "python",
   "nbconvert_exporter": "python",
   "pygments_lexer": "ipython3",
   "version": "3.8.3"
  }
 },
 "nbformat": 4,
 "nbformat_minor": 4
}
