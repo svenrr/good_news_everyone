{
 "cells": [
  {
   "cell_type": "markdown",
   "metadata": {},
   "source": [
    "# Intro"
   ]
  },
  {
   "cell_type": "markdown",
   "metadata": {},
   "source": [
    "Try to fetch good and bad news from reddits. In additon, I want to try to get the urls to the full news article.\n",
    "\n",
    "Furthermore, a sentiment analysis can be used to find out whether the comments can provide information on whether a contribution can be considered positive or negative."
   ]
  },
  {
   "cell_type": "markdown",
   "metadata": {},
   "source": [
    "## Ressources"
   ]
  },
  {
   "cell_type": "markdown",
   "metadata": {},
   "source": [
    "* https://www.reddit.com/r/UpliftingNews/\n",
    "* https://www.reddit.com/r/badnews/new/\n",
    "\n",
    "\n",
    "\n",
    "**Reddit-Scraping:** \n",
    "* https://www.datastuff.tech/programming/how-to-scrape-the-web-using-python-with-scrapy-spiders/\n",
    "* https://apify.com/trudax/reddit-scraper\n",
    "* https://www.parsehub.com/blog/scrape-reddit-data/\n",
    "* https://medium.com/@BW.benward/reddit-web-scraping-data-analysis-walkthrough-bd8345f7fae3\n",
    "* https://towardsdatascience.com/scraping-reddit-data-1c0af3040768"
   ]
  },
  {
   "cell_type": "markdown",
   "metadata": {},
   "source": [
    "## Imports"
   ]
  },
  {
   "cell_type": "markdown",
   "metadata": {},
   "source": [
    "First we install Praw because it is a Python wrapper for the Reddit API and we can use it for websraping."
   ]
  },
  {
   "cell_type": "code",
   "execution_count": 1,
   "metadata": {},
   "outputs": [
    {
     "name": "stdout",
     "output_type": "stream",
     "text": [
      "Collecting praw\n",
      "  Downloading praw-7.1.0-py3-none-any.whl (152 kB)\n",
      "Collecting prawcore<2.0,>=1.3.0\n",
      "  Downloading prawcore-1.5.0-py3-none-any.whl (15 kB)\n",
      "Collecting websocket-client>=0.54.0\n",
      "  Downloading websocket_client-0.57.0-py2.py3-none-any.whl (200 kB)\n",
      "Collecting update-checker>=0.17\n",
      "  Downloading update_checker-0.18.0-py3-none-any.whl (7.0 kB)\n",
      "Requirement already satisfied: requests<3.0,>=2.6.0 in c:\\users\\svenr\\anaconda3\\lib\\site-packages (from prawcore<2.0,>=1.3.0->praw) (2.24.0)\n",
      "Requirement already satisfied: six in c:\\users\\svenr\\anaconda3\\lib\\site-packages (from websocket-client>=0.54.0->praw) (1.15.0)\n",
      "Requirement already satisfied: urllib3!=1.25.0,!=1.25.1,<1.26,>=1.21.1 in c:\\users\\svenr\\anaconda3\\lib\\site-packages (from requests<3.0,>=2.6.0->prawcore<2.0,>=1.3.0->praw) (1.25.9)\n",
      "Requirement already satisfied: certifi>=2017.4.17 in c:\\users\\svenr\\anaconda3\\lib\\site-packages (from requests<3.0,>=2.6.0->prawcore<2.0,>=1.3.0->praw) (2020.6.20)\n",
      "Requirement already satisfied: chardet<4,>=3.0.2 in c:\\users\\svenr\\anaconda3\\lib\\site-packages (from requests<3.0,>=2.6.0->prawcore<2.0,>=1.3.0->praw) (3.0.4)\n",
      "Requirement already satisfied: idna<3,>=2.5 in c:\\users\\svenr\\anaconda3\\lib\\site-packages (from requests<3.0,>=2.6.0->prawcore<2.0,>=1.3.0->praw) (2.10)\n",
      "Installing collected packages: prawcore, websocket-client, update-checker, praw\n",
      "Successfully installed praw-7.1.0 prawcore-1.5.0 update-checker-0.18.0 websocket-client-0.57.0\n"
     ]
    }
   ],
   "source": [
    "#!pip install praw"
   ]
  },
  {
   "cell_type": "code",
   "execution_count": 121,
   "metadata": {},
   "outputs": [
    {
     "name": "stderr",
     "output_type": "stream",
     "text": [
      "<ipython-input-121-98883ec84632>:8: FutureWarning: Passing a negative integer is deprecated in version 1.0 and will not be supported in future version. Instead, use None to not limit the column width.\n",
      "  pd.set_option('display.max_colwidth', -1)\n"
     ]
    }
   ],
   "source": [
    "import praw\n",
    "\n",
    "import matplotlib.pyplot as plt\n",
    "import seaborn as sb\n",
    "import pandas as pd\n",
    "%matplotlib inline\n",
    "\n",
    "pd.set_option('display.max_colwidth', -1)"
   ]
  },
  {
   "cell_type": "code",
   "execution_count": 3,
   "metadata": {},
   "outputs": [],
   "source": [
    "# Login credentials to get access \n",
    "reddit = praw.Reddit(client_id='ddxZYbBilApY5A', client_secret='4rxjgOizdOJlhuyD781bi4tCqH8', user_agent='Henlo')"
   ]
  },
  {
   "cell_type": "markdown",
   "metadata": {},
   "source": [
    "I go through various positive contributions from the Reddit of \"https://www.reddit.com/r/UpliftingNews\". In the next step the comments are stored in a DataFrame and the VaderScore is used to find out if the comments are mostly positive. It is a Python library built especially for sentiment analysis of social media texts.\n",
    "\n",
    "More information: https://medium.com/analytics-vidhya/simplifying-social-media-sentiment-analysis-using-vader-in-python-f9e6ec6fc52f"
   ]
  },
  {
   "cell_type": "code",
   "execution_count": 87,
   "metadata": {},
   "outputs": [],
   "source": [
    "# Use Vader from NLTK\n",
    "import nltk\n",
    "#nltk.download('vader_lexicon')\n",
    "from nltk.sentiment.vader import SentimentIntensityAnalyzer"
   ]
  },
  {
   "cell_type": "code",
   "execution_count": 107,
   "metadata": {},
   "outputs": [],
   "source": [
    "# Function to get (top?) comments with reddit id and save them in a DataFrame\n",
    "# Example: https://www.reddit.com/r/UpliftingNews/comments/jch7vp --> ID = jch7vp\n",
    "\n",
    "def get_comments(r_id):\n",
    "    submission = reddit.submission(id=r_id)\n",
    "    comments = []\n",
    "    for top_level_comment in submission.comments:\n",
    "        comments.append(top_level_comment.body)\n",
    "    \n",
    "    df = pd.DataFrame({\"comments\": comments})\n",
    "    \n",
    "    # Vader\n",
    "    sid = SentimentIntensityAnalyzer()\n",
    "\n",
    "    df[['neg', 'neu', 'pos', 'Vader_Score']] = df['comments'].apply(sid.polarity_scores).apply(pd.Series)\n",
    "    \n",
    "    print(\"# of comments: \",len(comments))\n",
    "    return df "
   ]
  },
  {
   "cell_type": "markdown",
   "metadata": {},
   "source": [
    "I try some random samples to get an idea."
   ]
  },
  {
   "cell_type": "code",
   "execution_count": 136,
   "metadata": {},
   "outputs": [
    {
     "name": "stdout",
     "output_type": "stream",
     "text": [
      "# of comments:  98\n"
     ]
    }
   ],
   "source": [
    "df = get_comments(\"jch7vp\")"
   ]
  },
  {
   "cell_type": "code",
   "execution_count": 132,
   "metadata": {},
   "outputs": [
    {
     "name": "stdout",
     "output_type": "stream",
     "text": [
      "# of comments:  63\n"
     ]
    }
   ],
   "source": [
    "# https://www.reddit.com/r/UpliftingNews/comments/jc8xqe/the_nazis_took_a_precious_kettle_from_a_jewish/ \n",
    "df = get_comments(\"jc8xqe\")"
   ]
  },
  {
   "cell_type": "code",
   "execution_count": 139,
   "metadata": {},
   "outputs": [
    {
     "name": "stdout",
     "output_type": "stream",
     "text": [
      "# of comments:  15\n"
     ]
    }
   ],
   "source": [
    "# https://www.reddit.com/r/UpliftingNews/comments/ja9nb5/facebook_bans_holocaust_denial_amid_rise_in/\n",
    "df = get_comments(\"ja9nb5\")"
   ]
  },
  {
   "cell_type": "code",
   "execution_count": 142,
   "metadata": {},
   "outputs": [
    {
     "ename": "AttributeError",
     "evalue": "'MoreComments' object has no attribute 'body'",
     "output_type": "error",
     "traceback": [
      "\u001b[1;31m---------------------------------------------------------------------------\u001b[0m",
      "\u001b[1;31mAttributeError\u001b[0m                            Traceback (most recent call last)",
      "\u001b[1;32m<ipython-input-142-4d4f266a0534>\u001b[0m in \u001b[0;36m<module>\u001b[1;34m\u001b[0m\n\u001b[0;32m      1\u001b[0m \u001b[1;31m# https://www.reddit.com/r/UpliftingNews/comments/j85an5/france_to_distribute_free_medical_cannabis_launch/\u001b[0m\u001b[1;33m\u001b[0m\u001b[1;33m\u001b[0m\u001b[1;33m\u001b[0m\u001b[0m\n\u001b[1;32m----> 2\u001b[1;33m \u001b[0mdf\u001b[0m \u001b[1;33m=\u001b[0m \u001b[0mget_comments\u001b[0m\u001b[1;33m(\u001b[0m\u001b[1;34m\"j85an5\"\u001b[0m\u001b[1;33m)\u001b[0m\u001b[1;33m\u001b[0m\u001b[1;33m\u001b[0m\u001b[0m\n\u001b[0m",
      "\u001b[1;32m<ipython-input-107-438685d86213>\u001b[0m in \u001b[0;36mget_comments\u001b[1;34m(r_id)\u001b[0m\n\u001b[0;32m      6\u001b[0m     \u001b[0mcomments\u001b[0m \u001b[1;33m=\u001b[0m \u001b[1;33m[\u001b[0m\u001b[1;33m]\u001b[0m\u001b[1;33m\u001b[0m\u001b[1;33m\u001b[0m\u001b[0m\n\u001b[0;32m      7\u001b[0m     \u001b[1;32mfor\u001b[0m \u001b[0mtop_level_comment\u001b[0m \u001b[1;32min\u001b[0m \u001b[0msubmission\u001b[0m\u001b[1;33m.\u001b[0m\u001b[0mcomments\u001b[0m\u001b[1;33m:\u001b[0m\u001b[1;33m\u001b[0m\u001b[1;33m\u001b[0m\u001b[0m\n\u001b[1;32m----> 8\u001b[1;33m         \u001b[0mcomments\u001b[0m\u001b[1;33m.\u001b[0m\u001b[0mappend\u001b[0m\u001b[1;33m(\u001b[0m\u001b[0mtop_level_comment\u001b[0m\u001b[1;33m.\u001b[0m\u001b[0mbody\u001b[0m\u001b[1;33m)\u001b[0m\u001b[1;33m\u001b[0m\u001b[1;33m\u001b[0m\u001b[0m\n\u001b[0m\u001b[0;32m      9\u001b[0m \u001b[1;33m\u001b[0m\u001b[0m\n\u001b[0;32m     10\u001b[0m     \u001b[0mdf\u001b[0m \u001b[1;33m=\u001b[0m \u001b[0mpd\u001b[0m\u001b[1;33m.\u001b[0m\u001b[0mDataFrame\u001b[0m\u001b[1;33m(\u001b[0m\u001b[1;33m{\u001b[0m\u001b[1;34m\"comments\"\u001b[0m\u001b[1;33m:\u001b[0m \u001b[0mcomments\u001b[0m\u001b[1;33m}\u001b[0m\u001b[1;33m)\u001b[0m\u001b[1;33m\u001b[0m\u001b[1;33m\u001b[0m\u001b[0m\n",
      "\u001b[1;31mAttributeError\u001b[0m: 'MoreComments' object has no attribute 'body'"
     ]
    }
   ],
   "source": [
    "# https://www.reddit.com/r/UpliftingNews/comments/j85an5/france_to_distribute_free_medical_cannabis_launch/\n",
    "df = get_comments(\"j85an5\")"
   ]
  },
  {
   "cell_type": "code",
   "execution_count": 143,
   "metadata": {},
   "outputs": [
    {
     "name": "stdout",
     "output_type": "stream",
     "text": [
      "# of comments:  16\n"
     ]
    }
   ],
   "source": [
    "# https://www.reddit.com/r/UpliftingNews/comments/j81ld5/this_gamechanging_solar_company_recycles_old/\n",
    "df = get_comments(\"j81ld5\")"
   ]
  },
  {
   "cell_type": "code",
   "execution_count": 145,
   "metadata": {},
   "outputs": [
    {
     "name": "stdout",
     "output_type": "stream",
     "text": [
      "# of comments:  58\n"
     ]
    }
   ],
   "source": [
    "# https://www.reddit.com/r/UpliftingNews/comments/j7kk89/ucla_professor_becomes_4th_woman_to_win_nobel/\n",
    "df = get_comments(\"j7kk89\")"
   ]
  },
  {
   "cell_type": "code",
   "execution_count": 156,
   "metadata": {},
   "outputs": [
    {
     "name": "stdout",
     "output_type": "stream",
     "text": [
      "# of comments:  72\n"
     ]
    }
   ],
   "source": [
    "# https://www.reddit.com/r/UpliftingNews/comments/j45n5g/the_era_of_greyhound_racing_in_the_us_is_coming/\n",
    "df = get_comments(\"j45n5g\")"
   ]
  },
  {
   "cell_type": "code",
   "execution_count": 159,
   "metadata": {},
   "outputs": [
    {
     "name": "stdout",
     "output_type": "stream",
     "text": [
      "# of comments:  42\n"
     ]
    }
   ],
   "source": [
    "# https://www.reddit.com/r/UpliftingNews/comments/j40scn/missing_toddler_reunited_with_his_father_stray/\n",
    "df = get_comments(\"j40scn\")"
   ]
  },
  {
   "cell_type": "code",
   "execution_count": 162,
   "metadata": {},
   "outputs": [
    {
     "name": "stdout",
     "output_type": "stream",
     "text": [
      "# of comments:  9\n"
     ]
    }
   ],
   "source": [
    "# https://www.reddit.com/r/UpliftingNews/comments/jj7b6p/indian_child_poverty_charity_offers_free_school/ \n",
    "df = get_comments(\"jj7b6p\")"
   ]
  },
  {
   "cell_type": "code",
   "execution_count": 165,
   "metadata": {},
   "outputs": [
    {
     "name": "stdout",
     "output_type": "stream",
     "text": [
      "# of comments:  135\n"
     ]
    }
   ],
   "source": [
    "# https://www.reddit.com/r/UpliftingNews/comments/jhg976/terminator_star_schwarzenegger_feels_fantastic/\n",
    "df = get_comments(\"jhg976\")"
   ]
  },
  {
   "cell_type": "code",
   "execution_count": 169,
   "metadata": {},
   "outputs": [
    {
     "name": "stdout",
     "output_type": "stream",
     "text": [
      "# of comments:  40\n"
     ]
    }
   ],
   "source": [
    "# https://www.reddit.com/r/UpliftingNews/comments/jaopq8/21yearold_cat_brothers_find_a_new_home_after/\n",
    "df = get_comments(\"jaopq8\")"
   ]
  },
  {
   "cell_type": "code",
   "execution_count": null,
   "metadata": {},
   "outputs": [],
   "source": [
    "# Create a list with all mean Vader Scores \n",
    "VaderScores_means = []"
   ]
  },
  {
   "cell_type": "code",
   "execution_count": 170,
   "metadata": {},
   "outputs": [
    {
     "data": {
      "text/plain": [
       "[0.1384031746031746,\n",
       " 0.20003877551020408,\n",
       " -0.10591999999999999,\n",
       " 0.317875,\n",
       " 0.3170810344827587,\n",
       " 0.12705,\n",
       " 0.2761309523809525,\n",
       " -0.24953333333333327,\n",
       " 0.16646888888888892,\n",
       " 0.141265]"
      ]
     },
     "execution_count": 170,
     "metadata": {},
     "output_type": "execute_result"
    }
   ],
   "source": [
    "VaderScores_means.append(df.Vader_Score.mean())\n",
    "VaderScores_means"
   ]
  },
  {
   "cell_type": "code",
   "execution_count": 171,
   "metadata": {},
   "outputs": [
    {
     "name": "stdout",
     "output_type": "stream",
     "text": [
      "Mean:  0.13\n",
      "Median:  0.15\n"
     ]
    }
   ],
   "source": [
    "import statistics \n",
    "print(\"Mean: \",round(statistics.mean(VaderScores_means),2))\n",
    "print(\"Median: \",round(statistics.median(VaderScores_means),2))"
   ]
  },
  {
   "cell_type": "code",
   "execution_count": 172,
   "metadata": {},
   "outputs": [
    {
     "name": "stdout",
     "output_type": "stream",
     "text": [
      "positive:  8\n",
      "negative:  2\n"
     ]
    }
   ],
   "source": [
    "p = 0\n",
    "n = 0\n",
    "for x in VaderScores_means: \n",
    "    if x > 0: p += 1\n",
    "    else: n += 1 \n",
    "    \n",
    "print(\"positive: \", p)\n",
    "print(\"negative: \", n)"
   ]
  },
  {
   "cell_type": "markdown",
   "metadata": {},
   "source": [
    " "
   ]
  },
  {
   "cell_type": "markdown",
   "metadata": {},
   "source": [
    "Currently only the top comments are used. In the next step I try to use all comments. Maybe there are some noticeable differences."
   ]
  },
  {
   "cell_type": "markdown",
   "metadata": {},
   "source": [
    "---"
   ]
  },
  {
   "cell_type": "markdown",
   "metadata": {},
   "source": [
    "#### World News "
   ]
  },
  {
   "cell_type": "markdown",
   "metadata": {},
   "source": [
    "Now I will try the same for WorldNews from Twitter.\n",
    "\n",
    "* Is it possible to predict from the comments whether a contribution/news is positive or negative?\n",
    "* How has the VaderScore changed over time? Did the mood in the comments deteriorate during Corona?"
   ]
  },
  {
   "cell_type": "code",
   "execution_count": null,
   "metadata": {},
   "outputs": [],
   "source": [
    "# Try to scrape top posts from different weaks over time \n"
   ]
  },
  {
   "cell_type": "code",
   "execution_count": null,
   "metadata": {},
   "outputs": [],
   "source": [
    "# Get the last 10k posts from \"new\" section"
   ]
  },
  {
   "cell_type": "code",
   "execution_count": null,
   "metadata": {},
   "outputs": [],
   "source": []
  },
  {
   "cell_type": "markdown",
   "metadata": {},
   "source": [
    "After the random samples/tests, the IDs of the 1000 last contributions should also be obtained automatically. Then the corresponding comments can be saved directly and a VaderScore can be calculated for each contribution. Then you could quickly go through all of them and see how meaningful the VaderScore is."
   ]
  },
  {
   "cell_type": "code",
   "execution_count": null,
   "metadata": {},
   "outputs": [],
   "source": []
  }
 ],
 "metadata": {
  "kernelspec": {
   "display_name": "Python 3",
   "language": "python",
   "name": "python3"
  },
  "language_info": {
   "codemirror_mode": {
    "name": "ipython",
    "version": 3
   },
   "file_extension": ".py",
   "mimetype": "text/x-python",
   "name": "python",
   "nbconvert_exporter": "python",
   "pygments_lexer": "ipython3",
   "version": "3.8.3"
  }
 },
 "nbformat": 4,
 "nbformat_minor": 4
}
